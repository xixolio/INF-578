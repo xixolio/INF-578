{
 "cells": [
  {
   "cell_type": "markdown",
   "metadata": {},
   "source": [
    "# 3. Calidad de un Vino\n",
    "Dentro de las variedades del vino, existen distintas calidades de este, donde algunos gustan mas a algunas\n",
    "personas que otras, esto depende de la gran cantidad de quı́micos y procesos que se aplican a la producción\n",
    "de vino. Para el área de negocios el estimar cuál es la calidad del vino en base a la apreciación de la gente es\n",
    "una tarea bastante difı́cil.\n",
    "\n",
    "\n",
    "Para esta actividad se trabajará con dos datasets asociados a variantes tinto y blanco del vino Portugués\n",
    "\"Vinho Verde\"[4]. Debido a temas privados solo se cuenta atributos fisioquı́micos asociados a un vino en\n",
    "particular, los cuales corresponden a 11 atributos numéricos descritos en el siguiente link.\n",
    "\n",
    "Este problema puede ser abordado como clasificación de 11 clases o de regresión, ya que el atributo a estimar,\n",
    "la calidad quality, es un valor entero entre 0 y 10.\n",
    "\n",
    "## (a)\n",
    "Carge los dos dataset en un único dataframe de pandas, además de agregar una columna indicando si\n",
    "es vino tinto o blanco. Describa el dataset a trabajar."
   ]
  },
  {
   "cell_type": "code",
   "execution_count": 168,
   "metadata": {
    "collapsed": true
   },
   "outputs": [],
   "source": [
    "import pandas as pd\n",
    "import numpy as np\n",
    "\n",
    "df_red = pd.read_csv('winequality-red.csv', sep=';')\n",
    "df_white = pd.read_csv('winequality-white.csv', sep=';')\n",
    "df = pd.concat([df_red, df_white], axis=0)\n",
    "# genere atributo 'tipo'"
   ]
  },
  {
   "cell_type": "code",
   "execution_count": 169,
   "metadata": {},
   "outputs": [
    {
     "data": {
      "text/html": [
       "<div>\n",
       "<style>\n",
       "    .dataframe thead tr:only-child th {\n",
       "        text-align: right;\n",
       "    }\n",
       "\n",
       "    .dataframe thead th {\n",
       "        text-align: left;\n",
       "    }\n",
       "\n",
       "    .dataframe tbody tr th {\n",
       "        vertical-align: top;\n",
       "    }\n",
       "</style>\n",
       "<table border=\"1\" class=\"dataframe\">\n",
       "  <thead>\n",
       "    <tr style=\"text-align: right;\">\n",
       "      <th></th>\n",
       "      <th>fixed acidity</th>\n",
       "      <th>volatile acidity</th>\n",
       "      <th>citric acid</th>\n",
       "      <th>residual sugar</th>\n",
       "      <th>chlorides</th>\n",
       "      <th>free sulfur dioxide</th>\n",
       "      <th>total sulfur dioxide</th>\n",
       "      <th>density</th>\n",
       "      <th>pH</th>\n",
       "      <th>sulphates</th>\n",
       "      <th>alcohol</th>\n",
       "      <th>quality</th>\n",
       "    </tr>\n",
       "  </thead>\n",
       "  <tbody>\n",
       "    <tr>\n",
       "      <th>count</th>\n",
       "      <td>6497.000000</td>\n",
       "      <td>6497.000000</td>\n",
       "      <td>6497.000000</td>\n",
       "      <td>6497.000000</td>\n",
       "      <td>6497.000000</td>\n",
       "      <td>6497.000000</td>\n",
       "      <td>6497.000000</td>\n",
       "      <td>6497.000000</td>\n",
       "      <td>6497.000000</td>\n",
       "      <td>6497.000000</td>\n",
       "      <td>6497.000000</td>\n",
       "      <td>6497.000000</td>\n",
       "    </tr>\n",
       "    <tr>\n",
       "      <th>mean</th>\n",
       "      <td>7.215307</td>\n",
       "      <td>0.339666</td>\n",
       "      <td>0.318633</td>\n",
       "      <td>5.443235</td>\n",
       "      <td>0.056034</td>\n",
       "      <td>30.525319</td>\n",
       "      <td>115.744574</td>\n",
       "      <td>0.994697</td>\n",
       "      <td>3.218501</td>\n",
       "      <td>0.531268</td>\n",
       "      <td>10.491801</td>\n",
       "      <td>5.818378</td>\n",
       "    </tr>\n",
       "    <tr>\n",
       "      <th>std</th>\n",
       "      <td>1.296434</td>\n",
       "      <td>0.164636</td>\n",
       "      <td>0.145318</td>\n",
       "      <td>4.757804</td>\n",
       "      <td>0.035034</td>\n",
       "      <td>17.749400</td>\n",
       "      <td>56.521855</td>\n",
       "      <td>0.002999</td>\n",
       "      <td>0.160787</td>\n",
       "      <td>0.148806</td>\n",
       "      <td>1.192712</td>\n",
       "      <td>0.873255</td>\n",
       "    </tr>\n",
       "    <tr>\n",
       "      <th>min</th>\n",
       "      <td>3.800000</td>\n",
       "      <td>0.080000</td>\n",
       "      <td>0.000000</td>\n",
       "      <td>0.600000</td>\n",
       "      <td>0.009000</td>\n",
       "      <td>1.000000</td>\n",
       "      <td>6.000000</td>\n",
       "      <td>0.987110</td>\n",
       "      <td>2.720000</td>\n",
       "      <td>0.220000</td>\n",
       "      <td>8.000000</td>\n",
       "      <td>3.000000</td>\n",
       "    </tr>\n",
       "    <tr>\n",
       "      <th>25%</th>\n",
       "      <td>6.400000</td>\n",
       "      <td>0.230000</td>\n",
       "      <td>0.250000</td>\n",
       "      <td>1.800000</td>\n",
       "      <td>0.038000</td>\n",
       "      <td>17.000000</td>\n",
       "      <td>77.000000</td>\n",
       "      <td>0.992340</td>\n",
       "      <td>3.110000</td>\n",
       "      <td>0.430000</td>\n",
       "      <td>9.500000</td>\n",
       "      <td>5.000000</td>\n",
       "    </tr>\n",
       "    <tr>\n",
       "      <th>50%</th>\n",
       "      <td>7.000000</td>\n",
       "      <td>0.290000</td>\n",
       "      <td>0.310000</td>\n",
       "      <td>3.000000</td>\n",
       "      <td>0.047000</td>\n",
       "      <td>29.000000</td>\n",
       "      <td>118.000000</td>\n",
       "      <td>0.994890</td>\n",
       "      <td>3.210000</td>\n",
       "      <td>0.510000</td>\n",
       "      <td>10.300000</td>\n",
       "      <td>6.000000</td>\n",
       "    </tr>\n",
       "    <tr>\n",
       "      <th>75%</th>\n",
       "      <td>7.700000</td>\n",
       "      <td>0.400000</td>\n",
       "      <td>0.390000</td>\n",
       "      <td>8.100000</td>\n",
       "      <td>0.065000</td>\n",
       "      <td>41.000000</td>\n",
       "      <td>156.000000</td>\n",
       "      <td>0.996990</td>\n",
       "      <td>3.320000</td>\n",
       "      <td>0.600000</td>\n",
       "      <td>11.300000</td>\n",
       "      <td>6.000000</td>\n",
       "    </tr>\n",
       "    <tr>\n",
       "      <th>max</th>\n",
       "      <td>15.900000</td>\n",
       "      <td>1.580000</td>\n",
       "      <td>1.660000</td>\n",
       "      <td>65.800000</td>\n",
       "      <td>0.611000</td>\n",
       "      <td>289.000000</td>\n",
       "      <td>440.000000</td>\n",
       "      <td>1.038980</td>\n",
       "      <td>4.010000</td>\n",
       "      <td>2.000000</td>\n",
       "      <td>14.900000</td>\n",
       "      <td>9.000000</td>\n",
       "    </tr>\n",
       "  </tbody>\n",
       "</table>\n",
       "</div>"
      ],
      "text/plain": [
       "       fixed acidity  volatile acidity  citric acid  residual sugar  \\\n",
       "count    6497.000000       6497.000000  6497.000000     6497.000000   \n",
       "mean        7.215307          0.339666     0.318633        5.443235   \n",
       "std         1.296434          0.164636     0.145318        4.757804   \n",
       "min         3.800000          0.080000     0.000000        0.600000   \n",
       "25%         6.400000          0.230000     0.250000        1.800000   \n",
       "50%         7.000000          0.290000     0.310000        3.000000   \n",
       "75%         7.700000          0.400000     0.390000        8.100000   \n",
       "max        15.900000          1.580000     1.660000       65.800000   \n",
       "\n",
       "         chlorides  free sulfur dioxide  total sulfur dioxide      density  \\\n",
       "count  6497.000000          6497.000000           6497.000000  6497.000000   \n",
       "mean      0.056034            30.525319            115.744574     0.994697   \n",
       "std       0.035034            17.749400             56.521855     0.002999   \n",
       "min       0.009000             1.000000              6.000000     0.987110   \n",
       "25%       0.038000            17.000000             77.000000     0.992340   \n",
       "50%       0.047000            29.000000            118.000000     0.994890   \n",
       "75%       0.065000            41.000000            156.000000     0.996990   \n",
       "max       0.611000           289.000000            440.000000     1.038980   \n",
       "\n",
       "                pH    sulphates      alcohol      quality  \n",
       "count  6497.000000  6497.000000  6497.000000  6497.000000  \n",
       "mean      3.218501     0.531268    10.491801     5.818378  \n",
       "std       0.160787     0.148806     1.192712     0.873255  \n",
       "min       2.720000     0.220000     8.000000     3.000000  \n",
       "25%       3.110000     0.430000     9.500000     5.000000  \n",
       "50%       3.210000     0.510000    10.300000     6.000000  \n",
       "75%       3.320000     0.600000    11.300000     6.000000  \n",
       "max       4.010000     2.000000    14.900000     9.000000  "
      ]
     },
     "execution_count": 169,
     "metadata": {},
     "output_type": "execute_result"
    }
   ],
   "source": [
    "df.describe()"
   ]
  },
  {
   "cell_type": "markdown",
   "metadata": {},
   "source": [
    "Las características del dataset son atributos químicos relacionados con el vino, por lo cual son todos atributos continuos que pueden variar en diversos rangos. Debido a que se utilizarán árboles de clasificación; en conjunto con los respectivos ensamblados que utilizan estos clasificadores, no es fundamental el preprocesar la data para centrarla o escalarla, ya que estos clasificadores son insensibles ante tales transformaciones."
   ]
  },
  {
   "cell_type": "markdown",
   "metadata": {},
   "source": [
    "## (b)\n",
    "Aborde este problema como si fuera de clasificación binaria para predecir si un vino es de calidad o\n",
    "no, es decir, utilice las distintas caracterı́sticas fisioquı́micas presentes en los datos para estimar esta\n",
    "etiqueta. Para esto cree las matrices de entrenamiento y de pruebas, además de la etiqueta para ambos\n",
    "conjuntos, considerando como quality mayor a 5 un vino de buena calidad. El conjunto de pruebas\n",
    "($25 \\%$) será utilizado únicamente para verificar la calidad de los algoritmos a entrenar.\n",
    "\n",
    "Para poder estimar con mayor significancia estadística la capacidad de generalización de los diversos algoritmos, se han generado 20 conjuntos de train y test a partir de todos los datos que se tienen disponibles; es decir, se ha mezclado el train y test set originales y a partir de 20 remuestreos se han generado los nuevos conjuntos. Esto reduce la posibilidad de que se concluya erróneamente que un algoritmo tiene mejor capacidad de generalización que los demás debido tan sólo a un conjunto de train y test que le son favorables."
   ]
  },
  {
   "cell_type": "code",
   "execution_count": 170,
   "metadata": {},
   "outputs": [],
   "source": [
    "from sklearn.model_selection import train_test_split\n",
    "\n",
    "df['good_quality'] = [1 if q > 5 else 0 for q in df.quality]\n",
    "# train and test split over df\n",
    "y = df['good_quality']\n",
    "df = df.drop(['good_quality'],axis=1)\n",
    "df = df.drop(['quality'],axis=1)\n",
    "\n",
    "Train_sets = []\n",
    "Test_sets = []\n",
    "Train_y = []\n",
    "Test_y = []\n",
    "\n",
    "#Construccion de 20 sets de train y test para estimar con mayor significancia estadística el error de generalización\n",
    "for i in range(20):\n",
    "    \n",
    "    X_train,X_test,y_train,y_test = train_test_split(df,y,test_size=0.25)\n",
    "    Train_sets.append(X_train)\n",
    "    Test_sets.append(X_test)\n",
    "    Train_y.append(y_train)\n",
    "    Test_y.append(y_test)\n"
   ]
  },
  {
   "cell_type": "code",
   "execution_count": 177,
   "metadata": {},
   "outputs": [
    {
     "data": {
      "image/png": "[encoded data removed]",
      "text/plain": [
       "<matplotlib.figure.Figure at 0x1d34fe7a828>"
      ]
     },
     "metadata": {},
     "output_type": "display_data"
    }
   ],
   "source": [
    "qcount = []\n",
    "qcount.append(np.sum(y==1)/len(y))\n",
    "qcount.append(np.sum(y==0)/len(y))\n",
    "x = [\"good\",\"bad\"]\n",
    "plt.bar(x,qcount)\n",
    "plt.show()\n"
   ]
  },
  {
   "cell_type": "markdown",
   "metadata": {},
   "source": [
    "Se observa además que tenemos un problema de clases desbalanceadas: aproximadamente el 37% de los datos corresponden a la clase de vino malo, mientras que el resto pertenece a la clase de vino bueno. Si bien hay que tener esto en consideración a la hora de entrenar los clasificadores, se debe notar que el desbalanceo no es tan pronunciado como en otros casos en los que clasificando una sola clase se podrían obtener accuracies de más del 90%. Aún así, se debe tener en cuenta este fenómeno a la hora de entrenar los clasificadores y/o de reportar sus métricas de desempeño."
   ]
  },
  {
   "cell_type": "markdown",
   "metadata": {},
   "source": [
    "## (c)\n",
    "Entrene un solo Árbol de Clasificación de múltiples niveles para resolver el problema. Puede variar los\n",
    "hiper-parámetros que prefiera, recuerde que las decisiones no pueden ser basadas mirando el conjunto\n",
    "de pruebas. Debido al desbalanceo que se produce en las dos clases mida la métrica F1-score [5] sobre\n",
    "el conjunto de entrenamiento y de pruebas.\n",
    "\n",
    "Para abordar éste y los problemas que siguen, se ha implementado una función llamada \"train_and_test\", la cual recibe los conjuntos de train y test con sus respectivas etiquetas, una lista de parámetros asociada al algoritmo de aprendizaje, el algoritmo de aprendizaje propiamente tal dentro de una función lambda que recibe la lista de parámetros, y una función de métrica que retorna la métrica deseada asociada al conjunto de train y test. Esta función realiza cross-validation sobre cada uno de los conjuntos de entrenamiento con tal de determinar cuál es la combinación de parámetros que produce, en promedio, la arquitectura del modelo con la mejor capacidad de generalización para el problema. Luego, eligiendo tal combinación de parámetros se evalúa sobre el test set correspondiente y se obtiene la métrica deseada. \n",
    "\n",
    "La métrica escogida es la F-measure ponderada, la cual se obtiene a partir de considerar a cada clase como la positiva, obteniendo sus F-measures y ponderándolas teniendo en cuenta la proporción de las clases con tal de que sea una métrica balanceada.\n",
    "\n",
    "En este caso, los resultados se reportan utilizando boxplots para resumir los resultados obtenidos sobre el conjunto de train y test."
   ]
  },
  {
   "cell_type": "code",
   "execution_count": 95,
   "metadata": {
    "collapsed": true
   },
   "outputs": [],
   "source": [
    "from sklearn.model_selection import cross_val_score\n",
    "def train_and_test(Train_sets,Test_sets,Train_y,Test_y, parameter_list,lambda_model,metrics):\n",
    "    \n",
    "    results_train = []\n",
    "    results_test = []\n",
    "    list_selected_params = []\n",
    "    # Construimos una matriz que contiene todas las posibles combinaciones de parámetros\n",
    "    L = len(parameter_list)\n",
    "    packed_values = np.meshgrid(*parameter_list)\n",
    "    \n",
    "    values = []\n",
    "    for i in range(L):\n",
    "        values.append(packed_values[i].reshape(-1,1))\n",
    "    \n",
    "    parameters = np.concatenate(values,axis=1)\n",
    "    \n",
    "    P = parameters.shape[0]\n",
    "    \n",
    "    # Iteramos por cada Train y Test set\n",
    "    \n",
    "    for s in range(len(Train_sets)):\n",
    "        \n",
    "        print(s)\n",
    "        # Se construye el vector que almacena los valores del CV\n",
    "        grid = np.zeros(P)\n",
    "        \n",
    "        # Se itera por la grilla de parámetros realizando Cross-Validation\n",
    "        #print(parameters)\n",
    "        for i in range(P):\n",
    "            clf = lambda_model(*parameters[i,:])\n",
    "            grid[i] = np.mean(cross_val_score(clf, Train_sets[s], Train_y[s], cv=5))\n",
    "                \n",
    "        # Se escoge la mejor combinación de parámetros\n",
    "        index = np.argmax(grid)\n",
    "        selected_params = parameters[index,:]\n",
    "        \n",
    "        list_selected_params.append(selected_params)\n",
    "        \n",
    "        # Se entrena el modelo final\n",
    "        clf = lambda_model(*selected_params)\n",
    "        clf.fit(Train_sets[s],Train_y[s])\n",
    "        \n",
    "        y_train_pred = clf.predict(Train_sets[s])\n",
    "        y_test_pred = clf.predict(Test_sets[s])\n",
    "    \n",
    "        # Se calcula la metrica deseada\n",
    "        temp_result_train,temp_result_test = metrics(y_train_pred,Train_y[s],y_test_pred,Test_y[s])\n",
    "        results_train.append(temp_result_train)\n",
    "        results_test.append(temp_result_test)\n",
    "    return results_train,results_test,list_selected_params"
   ]
  },
  {
   "cell_type": "code",
   "execution_count": 96,
   "metadata": {
    "collapsed": true
   },
   "outputs": [],
   "source": [
    "from sklearn.metrics import f1_score\n",
    "\n",
    "\n",
    "\n",
    "def f_measure(y_train_pred,y_train,y_test_pred,y_test): \n",
    "    \n",
    "    f_scores_train=[]\n",
    "    f_scores_test=[]\n",
    "    \n",
    "    f_scores_train.append(f1_score(y_train, y_train_pred,average='weighted'))\n",
    "    \n",
    "    f_scores_test.append(f1_score(y_test,y_test_pred,average='weighted'))\n",
    "    \n",
    "    return f_scores_train,f_scores_test\n"
   ]
  },
  {
   "cell_type": "markdown",
   "metadata": {},
   "source": [
    "Los parámetros del árbol que se varían son los siguientes:\n",
    "\n",
    "- Impureza: gini o entropía. Corresponde a la medida de impureza que se utiliza para decidir, en cada paso de la construcción del árbol, qué característica se debe particionar.\n",
    "- Balanceo de clases: Balanceado o nada. Corresponde tomar en consideración el desbalanceo de clases a la hora de construir el árbol: la medida de impureza se pondera de acuerdo al peso de las clases.\n",
    "- Máxima profundidad: 10, 20, 50 o 100. Corresponde a la máxima profundidad que puede tomar el árbol. A mayor profundidad, más factible es que se produzca overfitting."
   ]
  },
  {
   "cell_type": "code",
   "execution_count": 99,
   "metadata": {
    "collapsed": true
   },
   "outputs": [],
   "source": [
    "from sklearn.tree import DecisionTreeClassifier\n",
    "from sklearn.model_selection import KFold\n",
    "from sklearn.linear_model import LogisticRegression\n",
    "\n",
    "# Parámetros\n",
    "\n",
    "criterion = [\"gini\",\"entropy\"]\n",
    "class_weight=[None,\"balanced\"]\n",
    "max_depth = [10,20,50,100]\n",
    "\n",
    "grid = np.zeros((len(criterion),len(class_weight),len(max_depth)))\n",
    "\n",
    "\n",
    "\n",
    "for ct,i in zip(criterion,range(len(criterion))):\n",
    "    for cw,j in zip(class_weight,range(len(class_weight))):\n",
    "        for md,k in zip(max_depth,range(len(max_depth))):\n",
    "            \n",
    "            clf = DecisionTreeClassifier(max_depth=md,class_weight=cw,criterion=ct)\n",
    "            grid[i,j,k] = np.mean(cross_val_score(clf, Train_sets[0], Train_y[0], cv=5))\n",
    "\n",
    "indexes = np.unravel_index(grid.argmax(), grid.shape)\n",
    "\n",
    "\n",
    "\n"
   ]
  },
  {
   "cell_type": "code",
   "execution_count": 100,
   "metadata": {
    "collapsed": true
   },
   "outputs": [],
   "source": [
    "lambda_tree = lambda ct,cw,md: DecisionTreeClassifier(max_depth=md,class_weight=cw,criterion=ct)"
   ]
  },
  {
   "cell_type": "code",
   "execution_count": 101,
   "metadata": {},
   "outputs": [
    {
     "name": "stdout",
     "output_type": "stream",
     "text": [
      "0\n",
      "1\n",
      "2\n",
      "3\n",
      "4\n",
      "5\n",
      "6\n",
      "7\n",
      "8\n",
      "9\n",
      "10\n",
      "11\n",
      "12\n",
      "13\n",
      "14\n",
      "15\n",
      "16\n",
      "17\n",
      "18\n",
      "19\n"
     ]
    }
   ],
   "source": [
    "parameter_list = [criterion,class_weight,max_depth]\n",
    "results_train,results_test,selected_params = train_and_test(Train_sets,Test_sets,Train_y,Test_y, parameter_list,lambda_tree,f_measure)\n"
   ]
  },
  {
   "cell_type": "code",
   "execution_count": 102,
   "metadata": {},
   "outputs": [
    {
     "data": {
      "image/png": "[encoded data removed]",
      "text/plain": [
       "<matplotlib.figure.Figure at 0x1d32e4124e0>"
      ]
     },
     "metadata": {},
     "output_type": "display_data"
    }
   ],
   "source": [
    "import seaborn as sns\n",
    "import matplotlib.pyplot as plt\n",
    "data = np.concatenate((results_train,results_test),axis=1)\n",
    "df = pd.DataFrame(data,columns=[\"Train\",\"Test\"])\n",
    "ax = sns.boxplot(data=df)\n",
    "plt.show()"
   ]
  },
  {
   "cell_type": "markdown",
   "metadata": {},
   "source": [
    "Se observa en los boxplots de la métrica F-measure de train y test que hay un claro sobreajuste al momento de entrenar los árboles de decisión: en promedio, la F-measure sobre los conjuntos de entrenamiento es 1 mientras que, calculada sobre los conjuntos de test, es de aproximadamente 0.77. Además, hay mayor variación de los resultados sobre los conjuntos de test, mientras que en el conjunto de entrenamiento la variación es casi nula. Era de esperar que los árboles sobre-ajustaran, ya que permiten la construcción de fronteras de decisión no-lineales altamente complejas que pueden terminar clasificando perfectamente todos los datos si es que se deja que el árbol crezca sin control.\n",
    "\n",
    "A continuación se muestran histogramas acerca de los parámetros escogidos:"
   ]
  },
  {
   "cell_type": "code",
   "execution_count": 191,
   "metadata": {},
   "outputs": [],
   "source": [
    "selected_criterion = [s[0] for s in selected_params]\n",
    "selected_weight = [s[1] for s in selected_params]\n",
    "selected_depth = [s[2] for s in selected_params]\n",
    "\n",
    "criterion_count = [selected_criterion.count(c) for c in criterion]\n",
    "weight_count = [selected_weight.count(w) for w in class_weight]\n",
    "depth_count = [selected_depth.count(d) for d in max_depth]"
   ]
  },
  {
   "cell_type": "code",
   "execution_count": 203,
   "metadata": {},
   "outputs": [
    {
     "data": {
      "image/png": "[encoded data removed]",
      "text/plain": [
       "<matplotlib.figure.Figure at 0x1d35026abe0>"
      ]
     },
     "metadata": {},
     "output_type": "display_data"
    }
   ],
   "source": [
    "plt.bar([\"10\",\"20\",\"50\",\"100\"],depth_count)\n",
    "plt.title(\"Histograma de máxima profundidad\")\n",
    "plt.show()"
   ]
  },
  {
   "cell_type": "markdown",
   "metadata": {},
   "source": [
    "Se observa que todas las profundidades máxima de árbol son escogidas al menos una vez. En particular, máxima profundidad 50 es la más seleccionada. Ahora, esto no nos dice la altura real de los árboles, pero es un indicador del rango en el que éstos se encuentran."
   ]
  },
  {
   "cell_type": "code",
   "execution_count": 202,
   "metadata": {},
   "outputs": [
    {
     "data": {
      "image/png": "[encoded data removed]",
      "text/plain": [
       "<matplotlib.figure.Figure at 0x1d350254860>"
      ]
     },
     "metadata": {},
     "output_type": "display_data"
    }
   ],
   "source": [
    "plt.bar(criterion,criterion_count)\n",
    "plt.title(\"Histograma de criterio de impureza\")\n",
    "plt.show()"
   ]
  },
  {
   "cell_type": "markdown",
   "metadata": {},
   "source": [
    "Se observa que, dentro de las combinaciones de parámetros, el criterio de división utilizado al fragmentar el árbol que más fue escogido realizando cross-validation fue el de Entropía, a pesar de que Gini es generalmente más utilizado cuando se tiene desbalanceo de clases."
   ]
  },
  {
   "cell_type": "code",
   "execution_count": 201,
   "metadata": {},
   "outputs": [
    {
     "data": {
      "image/png": "[encoded data removed]",
      "text/plain": [
       "<matplotlib.figure.Figure at 0x1d3501c5eb8>"
      ]
     },
     "metadata": {},
     "output_type": "display_data"
    }
   ],
   "source": [
    "plt.bar([\"None\",\"Balanced\"],weight_count)\n",
    "plt.title(\"Histograma criterio Weight Criterion\")\n",
    "plt.show()"
   ]
  },
  {
   "cell_type": "markdown",
   "metadata": {},
   "source": [
    "Se observa que tanto el criterio Balanceado como ningún criterio son escogidos en cuanto a la ponderación de las clases a la hora de entrenar los árboles. Debido a que este criterio influye en cómo se pondera la disminución de la impureza del árbol al dividir en ciertas características, está muy relacionado con el criterio de impureza utilizado (Gini o Entropía). Puede ser que en los casos en donde se escogió el criterio de balanceo, también fue escogido el criterio de Entropía, mientras que el criterio normal es escogido con el criterio Gini. Esto, sin embargo, es tan sólo especular, ya que hay que tener en consideración todos los factores y cómo se fueron dando en conjunto para poder concluir correctamente acerca de cuáles son los mejores parámetros dada la distribución de los datos. Además, con tan sólo 20 conjuntos de train test, es difícil observar la verdadera tendencia de los parámetros ya que se tienen muchas posibles combinaciones. A partir de ahora no se harán más análisis de los parámetros ideales pues consideramos que no es tan importante: lo importante es que el algoritmo de entrenamiento sea capaz de encontrar estos parámetros dado el train set que se le presenta."
   ]
  },
  {
   "cell_type": "markdown",
   "metadata": {},
   "source": [
    "## (d)\n",
    "Entrene un ensamblador de árboles de múltiples niveles, mediante la técnica de Random Forest. Varı́e la\n",
    "cantidad de árboles de decisión utilizados en el ensamblado (n estimators), realice un gráfico resumen\n",
    "del F1-score de entrenamiento y de pruebas en función de este hiper-parámetro.\n",
    "\n",
    "Se consideran 1, 5, 10, 15, 20, 25 y 30 árboles para el ensamblado. Los parámetros que se varían sobre el conjunto de árboles son los mismos que en la pregunta anterior. La métrica para reportar el error nuevamente es la F-measure ponderada considerando el desbalanceo de las clases. En este caso, los resultados se reportan a través de un gráfico que muestra cómo varía la F-measure promedio en los conjuntos de train y set al aumentar la cantidad de árboles del ensamblado. También se reporta la desviación estándar en este mismo gráfico."
   ]
  },
  {
   "cell_type": "code",
   "execution_count": 205,
   "metadata": {
    "scrolled": true
   },
   "outputs": [
    {
     "name": "stdout",
     "output_type": "stream",
     "text": [
      "1\n",
      "0\n",
      "1\n",
      "2\n",
      "3\n",
      "4\n",
      "5\n",
      "6\n",
      "7\n",
      "8\n",
      "9\n",
      "10\n",
      "11\n",
      "12\n",
      "13\n",
      "14\n",
      "15\n",
      "16\n",
      "17\n",
      "18\n",
      "19\n",
      "5\n",
      "0\n",
      "1\n",
      "2\n",
      "3\n",
      "4\n",
      "5\n",
      "6\n",
      "7\n",
      "8\n",
      "9\n",
      "10\n",
      "11\n",
      "12\n",
      "13\n",
      "14\n",
      "15\n",
      "16\n",
      "17\n",
      "18\n",
      "19\n",
      "10\n",
      "0\n",
      "1\n",
      "2\n",
      "3\n",
      "4\n",
      "5\n",
      "6\n",
      "7\n",
      "8\n",
      "9\n",
      "10\n",
      "11\n",
      "12\n",
      "13\n",
      "14\n",
      "15\n",
      "16\n",
      "17\n",
      "18\n",
      "19\n",
      "15\n",
      "0\n",
      "1\n",
      "2\n",
      "3\n",
      "4\n",
      "5\n",
      "6\n",
      "7\n",
      "8\n",
      "9\n",
      "10\n",
      "11\n",
      "12\n",
      "13\n",
      "14\n",
      "15\n",
      "16\n",
      "17\n",
      "18\n",
      "19\n",
      "20\n",
      "0\n",
      "1\n",
      "2\n",
      "3\n",
      "4\n",
      "5\n",
      "6\n",
      "7\n",
      "8\n",
      "9\n",
      "10\n",
      "11\n",
      "12\n",
      "13\n",
      "14\n",
      "15\n",
      "16\n",
      "17\n",
      "18\n",
      "19\n",
      "25\n",
      "0\n",
      "1\n",
      "2\n",
      "3\n",
      "4\n",
      "5\n",
      "6\n",
      "7\n",
      "8\n",
      "9\n",
      "10\n",
      "11\n",
      "12\n",
      "13\n",
      "14\n",
      "15\n",
      "16\n",
      "17\n",
      "18\n",
      "19\n",
      "30\n",
      "0\n",
      "1\n",
      "2\n",
      "3\n",
      "4\n",
      "5\n",
      "6\n",
      "7\n",
      "8\n",
      "9\n",
      "10\n",
      "11\n",
      "12\n",
      "13\n",
      "14\n",
      "15\n",
      "16\n",
      "17\n",
      "18\n",
      "19\n"
     ]
    }
   ],
   "source": [
    "from sklearn.ensemble import RandomForestClassifier\n",
    "number_trees = [1,5,10,15,20,25,30]\n",
    "lambda_random_forest = lambda ne,ct,cw,md: RandomForestClassifier(n_estimators=ne,max_depth=md,class_weight=cw,criterion=ct)\n",
    "mean_results_train = []\n",
    "std_results_train = []\n",
    "mean_results_test = []\n",
    "std_results_test = []\n",
    "\n",
    "for ne in number_trees:\n",
    "    print(ne)\n",
    "    parameter_list = [[ne],criterion,class_weight,max_depth]\n",
    "    results_train,results_test,_ = train_and_test(Train_sets,Test_sets,Train_y,Test_y, parameter_list,lambda_random_forest,f_measure)\n",
    "    \n",
    "    mean_results_train.append(np.mean(results_train))\n",
    "    std_results_train.append(np.std(results_train))\n",
    "    mean_results_test.append(np.mean(results_test))\n",
    "    std_results_test.append(np.std(results_test))"
   ]
  },
  {
   "cell_type": "code",
   "execution_count": 206,
   "metadata": {},
   "outputs": [
    {
     "data": {
      "image/png": "[encoded data removed]",
      "text/plain": [
       "<matplotlib.figure.Figure at 0x1d350113ba8>"
      ]
     },
     "metadata": {},
     "output_type": "display_data"
    }
   ],
   "source": [
    "\n",
    "#plt.plot(number_trees,mean_results_train)\n",
    "plt.errorbar(number_trees,mean_results_train,std_results_train, marker='^',label=\"Train\")\n",
    "\n",
    "plt.errorbar(number_trees,mean_results_test,std_results_test,marker='o',label=\"Test\")\n",
    "plt.legend()\n",
    "plt.title(\"F-measure balanceada promedio vs numero de arboles\")\n",
    "plt.xlabel(\"Numero arboles\")\n",
    "plt.ylabel(\"F-measure\")\n",
    "plt.show()"
   ]
  },
  {
   "cell_type": "markdown",
   "metadata": {},
   "source": [
    "Se observa a partir del gráfico cómo mejora la F-measure sobre los conjuntos de train y test a medida que se aumenta la cantidad de árboles de clasificación. Se observa que la calidad de la clasificación mejora hasta ser 1, en promedio, en los conjuntos de train, pero que llega hasta aproximadamente 0.82 en promedio sobre los conjuntos de test. Probablemente esto indica que 0.82 es, aproximadamente, lo máximo a lo que se podría llegar en cuanto a error de generalización de los modelos dada la cantidad disponible de datos y los atributos que estos tienen. En este caso, debido a que cuando la F-measure ponderada sobre los conjuntos de train aumenta también lo hace esta métrica sobre los conjuntos del test, se puede argumentar que, coincidentemente, la frontera de decisión que mejor separa los datos en el train también produce la mejor capacidad de generalización. Esto, por lo general, no es así, y debe entenderse que es una particularidad de los datos utilizados para este ejercicio: en otros casos, probablemente una frontera de decisión perfecta sobre el train set produzca un peor resultado sobre el test set que una frontera con cierta holgura."
   ]
  },
  {
   "cell_type": "markdown",
   "metadata": {},
   "source": [
    "## (e)\n",
    "Entrene un ensamblador de árboles de múltiples niveles, mediante la técnica de AdaBoost. Varı́e la\n",
    "cantidad de árboles de decisión utilizados en el ensamblado (n estimators), realice un gráfico resumen\n",
    "del F1-score de entrenamiento y de pruebas en función de este hiper-parámetro. Compare y analice con\n",
    "la técnica utilizada en d).\n",
    "\n",
    "La cantidad de árboles que se probarán son nuevamente 1, 5, 10, 15, 20, 25, y 30. Los parámetros de los árboles son los mismos que se han utilizado a lo largo de esta sección."
   ]
  },
  {
   "cell_type": "code",
   "execution_count": 109,
   "metadata": {},
   "outputs": [
    {
     "name": "stdout",
     "output_type": "stream",
     "text": [
      "1\n",
      "0\n",
      "1\n",
      "2\n",
      "3\n",
      "4\n",
      "5\n",
      "6\n",
      "7\n",
      "8\n",
      "9\n",
      "10\n",
      "11\n",
      "12\n",
      "13\n",
      "14\n",
      "15\n",
      "16\n",
      "17\n",
      "18\n",
      "19\n",
      "5\n",
      "0\n",
      "1\n",
      "2\n",
      "3\n",
      "4\n",
      "5\n",
      "6\n",
      "7\n",
      "8\n",
      "9\n",
      "10\n",
      "11\n",
      "12\n",
      "13\n",
      "14\n",
      "15\n",
      "16\n",
      "17\n",
      "18\n",
      "19\n",
      "10\n",
      "0\n",
      "1\n",
      "2\n",
      "3\n",
      "4\n",
      "5\n",
      "6\n",
      "7\n",
      "8\n",
      "9\n",
      "10\n",
      "11\n",
      "12\n",
      "13\n",
      "14\n",
      "15\n",
      "16\n",
      "17\n",
      "18\n",
      "19\n",
      "15\n",
      "0\n",
      "1\n",
      "2\n",
      "3\n",
      "4\n",
      "5\n",
      "6\n",
      "7\n",
      "8\n",
      "9\n",
      "10\n",
      "11\n",
      "12\n",
      "13\n",
      "14\n",
      "15\n",
      "16\n",
      "17\n",
      "18\n",
      "19\n",
      "20\n",
      "0\n",
      "1\n",
      "2\n",
      "3\n",
      "4\n",
      "5\n",
      "6\n",
      "7\n",
      "8\n",
      "9\n",
      "10\n",
      "11\n",
      "12\n",
      "13\n",
      "14\n",
      "15\n",
      "16\n",
      "17\n",
      "18\n",
      "19\n",
      "25\n",
      "0\n",
      "1\n",
      "2\n",
      "3\n",
      "4\n",
      "5\n",
      "6\n",
      "7\n",
      "8\n",
      "9\n",
      "10\n",
      "11\n",
      "12\n",
      "13\n",
      "14\n",
      "15\n",
      "16\n",
      "17\n",
      "18\n",
      "19\n",
      "30\n",
      "0\n",
      "1\n",
      "2\n",
      "3\n",
      "4\n",
      "5\n",
      "6\n",
      "7\n",
      "8\n",
      "9\n",
      "10\n",
      "11\n",
      "12\n",
      "13\n",
      "14\n",
      "15\n",
      "16\n",
      "17\n",
      "18\n",
      "19\n"
     ]
    }
   ],
   "source": [
    "from sklearn.ensemble import AdaBoostClassifier\n",
    "\n",
    "number_trees = [1,5,10,15,20,25,30]\n",
    "lambda_adaboost = lambda ne,ct,cw,md: AdaBoostClassifier(base_estimator=lambda_tree(ct,cw,md),n_estimators=ne)\n",
    "mean_results_train2 = []\n",
    "std_results_train2 = []\n",
    "mean_results_test2 = []\n",
    "std_results_test2 = []\n",
    "\n",
    "for ne in number_trees:\n",
    "    print(ne)\n",
    "    parameter_list = [[ne],criterion,class_weight,max_depth]\n",
    "    results_train,results_test,_ = train_and_test(Train_sets,Test_sets,Train_y,Test_y, parameter_list,lambda_adaboost,f_measure)\n",
    "    \n",
    "    mean_results_train2.append(np.mean(results_train))\n",
    "    std_results_train2.append(np.std(results_train))\n",
    "    mean_results_test2.append(np.mean(results_test))\n",
    "    std_results_test2.append(np.std(results_test))"
   ]
  },
  {
   "cell_type": "code",
   "execution_count": 110,
   "metadata": {
    "scrolled": true
   },
   "outputs": [
    {
     "data": {
      "image/png": "[encoded data removed]",
      "text/plain": [
       "<matplotlib.figure.Figure at 0x1d300283198>"
      ]
     },
     "metadata": {},
     "output_type": "display_data"
    },
    {
     "data": {
      "text/plain": [
       "[0.77006631580672391,\n",
       " 0.7976131002811907,\n",
       " 0.80677986052522299,\n",
       " 0.81499473704229108,\n",
       " 0.81264506079064369,\n",
       " 0.81579119520854371,\n",
       " 0.81555875795778088]"
      ]
     },
     "execution_count": 110,
     "metadata": {},
     "output_type": "execute_result"
    }
   ],
   "source": [
    "\n",
    "#plt.plot(number_trees,mean_results_train)\n",
    "plt.errorbar(number_trees,mean_results_train2,std_results_train2, marker='^',label=\"Train\")\n",
    "\n",
    "plt.errorbar(number_trees,mean_results_test2,std_results_test2,marker='o',label=\"Test\")\n",
    "plt.legend()\n",
    "plt.title(\"F-measure balanceada promedio vs numero de arboles\")\n",
    "plt.xlabel(\"Numero arboles\")\n",
    "plt.ylabel(\"F-measure\")\n",
    "plt.show()\n",
    "mean_results_test2"
   ]
  },
  {
   "cell_type": "markdown",
   "metadata": {},
   "source": [
    "Nuevamente se observa que a medida que aumentan los árboles de clasificación, la F-measure ponderada promedio sobre los conjuntos de test aumenta.En este caso, sin embargo, debido a la elección de parámetros óptimos utilizando cross-validation, se obtiene una F-measure de 1 para los conjuntos de train independiente de la cantidad de árboles. Esto indica que la profundidad elegida de estos permite construir desde el principio fronteras de decisión perfectas sobre los conjuntos de train. Claramente estas fronteras de decisión no son iguales las unas con las otras: esto se refleja en como la capacidad de generalización del algoritmo aumenta a medida que incrementa la cantidad de árboles de decisión. Con más árboles se le da más capacidad al algoritmo; en cuanto a capacidad de generalización, y los cross-validation están determinando con mejor certeza las buenas combinaciones de parámetros que permiten la construcción de la frontera. La F-measure ponderada denuevo tiende a 0.82, lo que aumenta la sospecha de que con la data que se posee no se puede esperar estimar fronteras de decisión que mejoren esta capacidad de generalización."
   ]
  },
  {
   "cell_type": "markdown",
   "metadata": {},
   "source": [
    "## (f)\n",
    "Entrene alguna otra máquina de aprendizaje, elegida por usted, para resolver este problema. Elija los\n",
    "hiper-parámetros que estime convenientes intentando aumentar el F1-score obtenido por los algoritmos\n",
    "anteriores. Compare y analice estas 4 maneras de resolver el problema definido en b).\n",
    "\n",
    "Se ha utilizado la técnica de Bagging con tal de validar experimentalmente que las técnicas de Random Forest y Adaboost se desempeñan mejor que este algoritmo de ensamblado."
   ]
  },
  {
   "cell_type": "code",
   "execution_count": 112,
   "metadata": {},
   "outputs": [],
   "source": [
    "from sklearn.ensemble import BaggingClassifier\n",
    "lambda_bagging = lambda n,ct,cw,md: BaggingClassifier(base_estimator=lambda_tree(ct,cw,md),n_estimators=n)"
   ]
  },
  {
   "cell_type": "code",
   "execution_count": 118,
   "metadata": {
    "scrolled": true
   },
   "outputs": [
    {
     "name": "stdout",
     "output_type": "stream",
     "text": [
      "1\n",
      "0\n",
      "1\n",
      "2\n",
      "3\n",
      "4\n",
      "5\n",
      "0\n",
      "1\n",
      "2\n",
      "3\n",
      "4\n",
      "10\n",
      "0\n",
      "1\n",
      "2\n",
      "3\n",
      "4\n",
      "15\n",
      "0\n",
      "1\n",
      "2\n",
      "3\n",
      "4\n",
      "20\n",
      "0\n",
      "1\n",
      "2\n",
      "3\n",
      "4\n",
      "25\n",
      "0\n",
      "1\n",
      "2\n",
      "3\n",
      "4\n",
      "30\n",
      "0\n",
      "1\n",
      "2\n",
      "3\n",
      "4\n"
     ]
    }
   ],
   "source": [
    "\n",
    "number_trees = [1,5,10,15,20,25,30]\n",
    "#lambda_adaboost = lambda ne,ct,cw,md: AdaBoostClassifier(base_estimator=lambda_tree(ct,cw,md),n_estimators=ne)\n",
    "mean_results_train3 = []\n",
    "std_results_train3 = []\n",
    "mean_results_test3 = []\n",
    "std_results_test3 = []\n",
    "\n",
    "for ne in number_trees:\n",
    "    print(ne)\n",
    "    parameter_list = [[ne],criterion,class_weight,max_depth]\n",
    "    results_train,results_test,_ = train_and_test(Train_sets,Test_sets,Train_y,Test_y, parameter_list,lambda_bagging,f_measure)\n",
    "    \n",
    "    mean_results_train3.append(np.mean(results_train))\n",
    "    std_results_train3.append(np.std(results_train))\n",
    "    mean_results_test3.append(np.mean(results_test))\n",
    "    std_results_test3.append(np.std(results_test))"
   ]
  },
  {
   "cell_type": "code",
   "execution_count": 119,
   "metadata": {},
   "outputs": [
    {
     "data": {
      "image/png": "[encoded data removed]",
      "text/plain": [
       "<matplotlib.figure.Figure at 0x1d30042bb38>"
      ]
     },
     "metadata": {},
     "output_type": "display_data"
    },
    {
     "data": {
      "text/plain": [
       "[0.73583122274069723,\n",
       " 0.7935563773092702,\n",
       " 0.81024582613945562,\n",
       " 0.81043425914776679,\n",
       " 0.8154171874481545,\n",
       " 0.82030345704163943,\n",
       " 0.82108366728438364]"
      ]
     },
     "execution_count": 119,
     "metadata": {},
     "output_type": "execute_result"
    }
   ],
   "source": [
    "\n",
    "#plt.plot(number_trees,mean_results_train)\n",
    "plt.errorbar(number_trees,mean_results_train3,std_results_train3, marker='^',label=\"Train\")\n",
    "\n",
    "plt.errorbar(number_trees,mean_results_test3,std_results_test3,marker='o',label=\"Test\")\n",
    "plt.legend()\n",
    "plt.title(\"F-measure balanceada promedio vs numero de arboles\")\n",
    "plt.xlabel(\"Numero arboles\")\n",
    "plt.ylabel(\"F-measure\")\n",
    "plt.show()\n",
    "mean_results_test3"
   ]
  },
  {
   "cell_type": "markdown",
   "metadata": {},
   "source": [
    "Si bien la teoría nos indica que Random Forest y Adaboost son algoritmos superiores a Bagging, en estos experimentos no se observa una diferencia sustancial entre estos. A medida que se aumenta la cantidad de árboles, todos los algoritmos llegan a un F-measure de 0.82 aproximadamente. Esto podría deberse a la naturaleza de la data en sí: 0.82 es el máximo que podría obtenerse dados los datos y las características, y es suficientemente fácil llegar a estos resultados utilizando ensamblados, independiente de cuál se use. En problemas más difíciles esperaríamos ver diferencias sustanciales entre los algoritmos: este no es el caso."
   ]
  },
  {
   "cell_type": "markdown",
   "metadata": {},
   "source": [
    "## (g)\n",
    "Defina un criterio para estimar la importancia de los distintos atributos en el ensamblado de Random Forest, implementelo sobre alguno de los ensambladores entrenados en d), haga un ranking de\n",
    "importancia de atributos ¿Es posible implementar este criterio sobre una técnica de boost como lo es\n",
    "AdaBoost?"
   ]
  },
  {
   "cell_type": "markdown",
   "metadata": {
    "collapsed": true
   },
   "source": [
    "Se utilizará la implementación por defecto de sci-kit learn en Random Forest para generar la importancia de las características. Tal implementación se basa en calcular en cuánto disminuye, en promedio sobre todos los árboles, la medida de impureza al ser particionados los árboles sobre tal característica, y ponderado por la cantidad de datos afectados en la partición. Más aún, como hemos construido 20 conjuntos de train y test, podemos calcular la importancia promediada obtenida sobre cada conjunto de train, esperando que los resultados sean aún más representativos."
   ]
  },
  {
   "cell_type": "code",
   "execution_count": 157,
   "metadata": {},
   "outputs": [],
   "source": [
    "from sklearn.ensemble import RandomForestClassifier\n",
    "number_trees = [1,5,10,15,20,25,30]\n",
    "lambda_random_forest = lambda ne,ct,cw,md: RandomForestClassifier(n_estimators=ne,max_depth=md,class_weight=cw,criterion=ct)\n",
    "mean_results_train = []\n",
    "std_results_train = []\n",
    "mean_results_test = []\n",
    "std_results_test = []\n",
    "importance = np.zeros((len(Train_sets),11))\n",
    "for i in range(len(Train_sets)):\n",
    "    parameter_list = [100,criterion[0],class_weight[0],max_depth[2]]\n",
    "    #results_train,results_test,_ = train_and_test(Train_sets,Test_sets,Train_y,Test_y, parameter_list,lambda_random_forest,f_measure)\n",
    "    clf = lambda_random_forest(*parameter_list)\n",
    "    clf.fit(Train_sets[i],Train_y[i])\n",
    "    #print(\"Scores características:\", map(lambda x:round (x,11),\n",
    "    #                                clf.feature_importances_))\n",
    "    importance[i,:]=clf.feature_importances_\n",
    "    \n",
    "promedio = np.mean(importance,axis=0)\n",
    "std = np.std(importance,axis=0)\n",
    "index = np.argsort(promedio)\n",
    "df.columns.values[index]\n",
    "x = np.linspace(0,10,11)"
   ]
  },
  {
   "cell_type": "code",
   "execution_count": 161,
   "metadata": {},
   "outputs": [
    {
     "data": {
      "image/png": "[encoded data removed]",
      "text/plain": [
       "<matplotlib.figure.Figure at 0x1d34fb91160>"
      ]
     },
     "metadata": {},
     "output_type": "display_data"
    }
   ],
   "source": [
    "promedio = np.mean(importance,axis=0)\n",
    "std = np.std(importance,axis=0)\n",
    "index = np.argsort(promedio)\n",
    "df.columns.values[index]\n",
    "x = np.linspace(0,10,11)\n",
    "plt.figure()\n",
    "my_xticks = df.columns.values[index]\n",
    "plt.xticks(x, my_xticks,rotation=70)\n",
    "plt.bar(x,np.sort(promedio))\n",
    "plt.ylabel(\"Importancia promedio\")\n",
    "plt.title(\"Importancia vs características\")\n",
    "plt.show()"
   ]
  },
  {
   "cell_type": "markdown",
   "metadata": {},
   "source": [
    "Se observa que la característica más importante según el criterio es el alcohol, seguido de la acides volátil y la densidad. Luego, el resto de las características tiene una importancia promedio similar. A continuación se muestra la desviación estándar de la importancia obtenida de los atributos a través de los 20 conjuntos de train."
   ]
  },
  {
   "cell_type": "code",
   "execution_count": 162,
   "metadata": {},
   "outputs": [
    {
     "data": {
      "image/png": "[encoded data removed]",
      "text/plain": [
       "<matplotlib.figure.Figure at 0x1d34fc19f28>"
      ]
     },
     "metadata": {},
     "output_type": "display_data"
    }
   ],
   "source": [
    "plt.figure()\n",
    "my_xticks = df.columns.values[index]\n",
    "plt.xticks(x, my_xticks,rotation=70)\n",
    "plt.bar(x,std[index])\n",
    "plt.ylabel(\"Desviación estándar promedio\")\n",
    "plt.title(\"STD vs características\")\n",
    "plt.show()"
   ]
  },
  {
   "cell_type": "markdown",
   "metadata": {},
   "source": [
    "La desviación estándar promedio no varía demasiado. Está en el orden de -3, mientras que el promedio se mueve en el orden de -1, por lo cual la variación es mínima. Probablemente la distribución no presentó variaciones significativas entre los distintos conjuntos de entrenamiento, con lo cual uno era suficiente para poder estimar bien cuales son las características más importantes.\n",
    "\n",
    "En cuanto a Adaboost, no se podría implementar este método debido a que los clasificadores en este algoritmo tienen un sesgo hacia ciertos datos (los mal clasificados del paso anterior) con lo que la importancia de las características estaría sesgada dependiendo del clasificador del ensamblado."
   ]
  },
  {
   "cell_type": "markdown",
   "metadata": {},
   "source": [
    "# 4. Reconocimiento de Imágenes Sign Gestures\n",
    "MNIST es un dataset muy popular de dı́gitos escrito a mano que a servido para probar distintos algoritmos\n",
    "de Machine Learning relacionados con Computer Vision. Buscando nuevos desafı́os, investigadores generaron\n",
    "un dataset que podrı́a usarse eventualmente en aplicaciones reales, Sign Gestures, consta de imagenes del\n",
    "lenguaje de señas, estas tienen una resolución de 28x28 pixeles representados en una escala de grises 0-255.\n",
    "La versión utilizada se atribuye a [8] y viene separada en 27455 ejemplos de entrenamiento y 7172 casos de\n",
    "pruebas. Las clases son mutualmente excluyentes y corresponden a las letras del alfabeto (ver imagen).\n",
    "\n",
    "## (a)\n",
    "Construya una función que cargue todos los datos de entrenamiento y pruebas del problema generando\n",
    "como salida: (i) dos matrices $X_{tr}, Y_{tr}$, correspondientes a las imágenes y etiquetas de entrenamiento,\n",
    "(ii) dos matrices $X_{t}, Y_{t}$, correspondientes a las imágenes y etiquetas de pruebas, y finalmente (iii) dos\n",
    "matrices $X_{v}, Y_{v}$, correspondientes a imágenes y etiquetas que se usarán como conjunto de validación, es\n",
    "decir para tomar decisiones de diseño acerca del modelo. Este último conjunto debe ser extraı́do desde\n",
    "el conjunto de entrenamiento original y no debe superar las 7000 imágenes."
   ]
  },
  {
   "cell_type": "code",
   "execution_count": 207,
   "metadata": {
    "scrolled": true
   },
   "outputs": [],
   "source": [
    "import pandas as pd\n",
    "import numpy as np\n",
    "from sklearn.model_selection import train_test_split\n",
    "\n",
    "\n",
    "def load_data():\n",
    "    \n",
    "    train = pd.read_csv('sign_mnist_train.csv')\n",
    "    test = pd.read_csv('sign_mnist_test.csv')\n",
    "    y = train['label']\n",
    "    y_test = test['label']\n",
    "    train = train.drop(['label'],axis=1)\n",
    "    test = test.drop(['label'],axis=1)\n",
    "    \n",
    "    X,X_val,y,y_val = train_test_split(train,y,test_size=0.2)\n",
    "\n",
    "    return X,y,X_val,y_val,test,y_test\n",
    "X,y,X_val,y_val,X_test,y_test = load_data()"
   ]
  },
  {
   "cell_type": "code",
   "execution_count": 209,
   "metadata": {},
   "outputs": [
    {
     "name": "stdout",
     "output_type": "stream",
     "text": [
      "Tamaño del train set: 21964\n",
      "Tamaño del validation set: 5491\n",
      "Tamaño del test set: 7172\n"
     ]
    }
   ],
   "source": [
    "print(\"Tamaño del train set: \"+str(len(X)))\n",
    "print(\"Tamaño del validation set: \"+str(len(X_val)))\n",
    "print(\"Tamaño del test set: \"+str(len(X_test)))"
   ]
  },
  {
   "cell_type": "markdown",
   "metadata": {},
   "source": [
    "Se construye una función que permite entrenar las redes neuronales de forma automática y así poder probar una gran combinación de parámetros."
   ]
  },
  {
   "cell_type": "code",
   "execution_count": 60,
   "metadata": {},
   "outputs": [],
   "source": [
    "from keras.models import Sequential\n",
    "from keras.layers import Dense,Dropout\n",
    "from keras.utils.np_utils import to_categorical\n",
    "from keras.callbacks import EarlyStopping\n",
    "from sklearn.model_selection import StratifiedKFold\n",
    "import numpy as np\n",
    "from keras import backend as K\n",
    "\n",
    "def train_nn_model(layers,drop,optimizer,activation,epochs,batch_size,classes,X,y,verbose=0):\n",
    "    \n",
    "    layers = np.array(layers).astype(int)\n",
    "    # layer es una lista, en la que layer[i] corresponde a la cantidad de neuronas de la capa i\n",
    "    # siendo i=0 la primera capa oculta\n",
    "    I = X.shape[1]\n",
    "    # Construccion del modelo\n",
    "    model= Sequential()\n",
    "    model.add(Dropout(drop,input_shape=(I,)))\n",
    "    model.add(Dense(layers[0],input_dim=I,activation=activation))\n",
    "    \n",
    "    # Se agregan cuantas capas hayan sido especificadas\n",
    "    for i in range(len(layers)-1):\n",
    "        \n",
    "        model.add(Dense(layers[i+1], activation=activation))\n",
    "    \n",
    "    model.add(Dense(classes,activation='softmax'))\n",
    "    model.compile(optimizer=optimizer,loss='categorical_crossentropy',metrics=['accuracy'])\n",
    "    y_cat = to_categorical(y)\n",
    "    #early_stopping = EarlyStopping(monitor='val_loss', patience=3, verbose=0, mode='auto')\n",
    "    \n",
    "    # Entrentamiento del modelo\n",
    "    model.fit(X,y_cat,epochs=epochs,batch_size=batch_size,verbose=verbose)\n",
    "    \n",
    "    # Prediccion y cálculo del error del modelo\n",
    "    \n",
    "    #predicted = np.argmax(model.predict(X_test), axis=1)\n",
    "    \n",
    "    #K.clear_session()\n",
    "    return model\n",
    "    \n",
    "    "
   ]
  },
  {
   "cell_type": "markdown",
   "metadata": {},
   "source": [
    "## (b)\n",
    "Construya una función que escale apropiadamente las imágenes antes de trabajar. Experimente sólo\n",
    "escalando los datos de acuerdo a la intensidad máxima de pixel (i.e., dividiendo por 255) y luego\n",
    "centrando y escalándolos como en actividades anteriores."
   ]
  },
  {
   "cell_type": "code",
   "execution_count": 8,
   "metadata": {},
   "outputs": [],
   "source": [
    "from sklearn.preprocessing import StandardScaler\n",
    "\n",
    "\n",
    "def scale_data(X,X_val,X_test):\n",
    "\n",
    "    ssX = X/250.\n",
    "    ssX_val = X_val/250.\n",
    "    ssX_test = X_test/250.\n",
    "\n",
    "    scaler = StandardScaler()\n",
    "    sX = scaler.fit_transform(X)\n",
    "    sX_val = scaler.transform(X_val)\n",
    "    sX_test = scaler.transform(X_test)\n",
    "    \n",
    "    return ssX,ssX_val,ssX_test,sX,sX_val,sX_test\n",
    "    \n"
   ]
  },
  {
   "cell_type": "markdown",
   "metadata": {},
   "source": [
    "La función implementada escala los datos dividiendo por 250, y también los estandariza obteniendo la media y la desviación estándar a partir del Train set."
   ]
  },
  {
   "cell_type": "markdown",
   "metadata": {},
   "source": [
    "## (c)\n",
    "Diseñe, entrene y evalúe una red neuronal para el problema partir de la representación original de las\n",
    "imágenes. Experimente con distintas arquitecturas, pre-procesamientos y métodos de entrenamiento,\n",
    "midiendo el error de clasificación sobre el conjunto de validación. En base a esta última medida de\n",
    "desempeño, decida qué modelo, de entre todos los evaluados, medirá finalmente en el conjunto de test.\n",
    "Reporte y discuta los resultados obtenidos. Se espera que logre obtener un error de pruebas menor o\n",
    "igual a 0.2."
   ]
  },
  {
   "cell_type": "markdown",
   "metadata": {},
   "source": [
    "A continuación se mostrará que utilizar un set de validación es inútil en este problema en particular. Para ello, se mostrará cómo una red puede fácilmente llegar a un error de validación 0 a medida que ésta es entrenada, independiente del conjunto de validación que sea escogido."
   ]
  },
  {
   "cell_type": "code",
   "execution_count": 17,
   "metadata": {},
   "outputs": [
    {
     "name": "stdout",
     "output_type": "stream",
     "text": [
      "Accuracy sobre el train set 1\n",
      "1.0\n",
      "Accuracy sobre el validation set 1\n",
      "1.0\n",
      "Accuracy sobre el train set 2\n",
      "1.0\n",
      "Accuracy sobre el validation set 2\n",
      "1.0\n",
      "Accuracy sobre el train set 3\n",
      "1.0\n",
      "Accuracy sobre el validation set 3\n",
      "1.0\n",
      "Accuracy sobre el train set 4\n",
      "1.0\n",
      "Accuracy sobre el validation set 4\n",
      "1.0\n",
      "Accuracy sobre el train set 5\n",
      "1.0\n",
      "Accuracy sobre el validation set 5\n",
      "1.0\n",
      "Accuracy sobre el train set 6\n",
      "1.0\n",
      "Accuracy sobre el validation set 6\n",
      "1.0\n",
      "Accuracy sobre el train set 7\n",
      "1.0\n",
      "Accuracy sobre el validation set 7\n",
      "1.0\n",
      "Accuracy sobre el train set 8\n",
      "1.0\n",
      "Accuracy sobre el validation set 8\n",
      "1.0\n",
      "Accuracy sobre el train set 9\n",
      "1.0\n",
      "Accuracy sobre el validation set 9\n",
      "1.0\n",
      "Accuracy sobre el train set 10\n",
      "1.0\n",
      "Accuracy sobre el validation set 10\n",
      "1.0\n"
     ]
    }
   ],
   "source": [
    "parameter_list = [100,'adadelta','relu',20,100,25]\n",
    "#layers,optimizer,activation,epochs,batch_size,classes,X,y\n",
    "for i in range(10):\n",
    "    X,y,X_val,y_val,X_test,y_test = load_data()\n",
    "    ssX,ssX_val,ssX_test, sX, sX_val, sX_test = scale_data(X,X_val,X_test)\n",
    "    model = train_nn_model([100],'adadelta','relu',10,100,25,sX,y)\n",
    "    y_val_pred = np.argmax(model.predict(sX_val),axis=1)\n",
    "    y_pred = np.argmax(model.predict(sX),axis=1)\n",
    "    accuracy = np.mean(y_pred == y)\n",
    "    val_accuracy = np.mean(y_val_pred == y_val)\n",
    "    print(\"Accuracy sobre el train set \"+str(i+1))\n",
    "    print(accuracy)\n",
    "    print(\"Accuracy sobre el validation set \"+str(i+1))\n",
    "    print(val_accuracy)\n",
    "    "
   ]
  },
  {
   "cell_type": "markdown",
   "metadata": {},
   "source": [
    "Observamos claramente como, con la data escalada de forma sencilla, la red es capaz con tan sólo 10 iteraciones de aprender perfectamente la distribución asociada a los datos de entrenamiento y validación. Esto nos sugiere dos posibilidades: \n",
    "- La distribución de los datos es extremadamente sencilla (con datos posiblemente repetidos o que varían muy poco unos de otros en las distintas clases).\n",
    "- El train set tiene datos seleccionados de tal manera que las distintas clases se pueden aprender de manera muy sencilla, pero que sin embargo no se corresponde con la distribución presente en la realidad.\n",
    "\n",
    "La primera opción nos llevaría a simplemente utilizar la red que aprendió prefectamente la distribución de los datos y esperar un error de test de 0%. Sin embargo, debido a que los datos son imágenes, creemos que la segunda opción es más pausible. Por ende, la opción a seguir acá es construir un clasificador que no sobre-ajuste sobre el train set, sin tener en cuenta el set de validación, y esperar a que éste prediga decentemente sobre la data de test.\n",
    "\n",
    "Ahora, debido a que se nos pide llegar a un error de 0.2 aproximadamente, no nos queda más que utilizar el test set para poder validar los parámetros escogidos.\n",
    "\n",
    "### Red neuronal con data sin escalar"
   ]
  },
  {
   "cell_type": "code",
   "execution_count": 90,
   "metadata": {
    "scrolled": true
   },
   "outputs": [
    {
     "name": "stdout",
     "output_type": "stream",
     "text": [
      "Accuracy sobre el train set con 10 neuronas ocultas y dropout de 0.3\n",
      "0.0477144418139\n",
      "Accuracy sobre el test set 10 neuronas ocultas y dropout de 0.3\n",
      "0.0200780814278\n",
      "Accuracy sobre el train set con 10 neuronas ocultas y dropout de 0.5\n",
      "0.0477144418139\n",
      "Accuracy sobre el test set 10 neuronas ocultas y dropout de 0.5\n",
      "0.0200780814278\n",
      "Accuracy sobre el train set con 10 neuronas ocultas y dropout de 0.7\n",
      "0.0477144418139\n",
      "Accuracy sobre el test set 10 neuronas ocultas y dropout de 0.7\n",
      "0.0200780814278\n",
      "Accuracy sobre el train set con 50 neuronas ocultas y dropout de 0.3\n",
      "0.137907484975\n",
      "Accuracy sobre el test set 50 neuronas ocultas y dropout de 0.3\n",
      "0.124093697713\n",
      "Accuracy sobre el train set con 50 neuronas ocultas y dropout de 0.5\n",
      "0.143188854489\n",
      "Accuracy sobre el test set 50 neuronas ocultas y dropout de 0.5\n",
      "0.140267707752\n",
      "Accuracy sobre el train set con 50 neuronas ocultas y dropout de 0.7\n",
      "0.120788563103\n",
      "Accuracy sobre el test set 50 neuronas ocultas y dropout de 0.7\n",
      "0.0913273842722\n",
      "Accuracy sobre el train set con 100 neuronas ocultas y dropout de 0.3\n",
      "0.0437989437261\n",
      "Accuracy sobre el test set 100 neuronas ocultas y dropout de 0.3\n",
      "0.0287228109314\n",
      "Accuracy sobre el train set con 100 neuronas ocultas y dropout de 0.5\n",
      "0.126479694045\n",
      "Accuracy sobre el test set 100 neuronas ocultas y dropout de 0.5\n",
      "0.090211935304\n",
      "Accuracy sobre el train set con 100 neuronas ocultas y dropout de 0.7\n",
      "0.0759424512839\n",
      "Accuracy sobre el test set 100 neuronas ocultas y dropout de 0.7\n",
      "0.0765476854434\n",
      "Accuracy sobre el train set con 150 neuronas ocultas y dropout de 0.3\n",
      "0.0834547441268\n",
      "Accuracy sobre el test set 150 neuronas ocultas y dropout de 0.3\n",
      "0.0807306190742\n",
      "Accuracy sobre el train set con 150 neuronas ocultas y dropout de 0.5\n",
      "0.0466672737206\n",
      "Accuracy sobre el test set 150 neuronas ocultas y dropout de 0.5\n",
      "0.0228667038483\n",
      "Accuracy sobre el train set con 150 neuronas ocultas y dropout de 0.7\n",
      "0.0864596612639\n",
      "Accuracy sobre el test set 150 neuronas ocultas y dropout de 0.7\n",
      "0.0857501394311\n"
     ]
    }
   ],
   "source": [
    "import itertools\n",
    "layers = [10,50,100,150]\n",
    "dropouts = [0.3,0.5,0.7]\n",
    "X,y,X_val,y_val,X_test,y_test = load_data()\n",
    "ssX,ssX_val,ssX_test, sX, sX_val, sX_test = scale_data(X,X_val,X_test)\n",
    "\n",
    "for i in range(len(layers)):\n",
    "    for j in range(len(dropouts)):\n",
    "\n",
    "        model = train_nn_model([layers[i]],dropouts[j],'adadelta','relu',50,100,25,X.values,y,verbose=0)\n",
    "\n",
    "        y_pred = np.argmax(model.predict(X.values),axis=1)\n",
    "        y_test_pred = np.argmax(model.predict(X_test.values),axis=1)\n",
    "        accuracy = np.mean(y_pred == y)\n",
    "        test_accuracy = np.mean(y_test_pred == y_test)\n",
    "        print(\"Accuracy sobre el train set con \"+str(layers[i])+\" neuronas ocultas y dropout de \"+str(dropouts[j]))\n",
    "        print(accuracy)\n",
    "        print(\"Accuracy sobre el test set \"+str(layers[i])+\" neuronas ocultas y dropout de \"+str(dropouts[j]))\n",
    "        print(test_accuracy)\n",
    "    "
   ]
  },
  {
   "cell_type": "markdown",
   "metadata": {},
   "source": [
    "Tal y como se podría esperar, al entrenar con la data sin escalar de ninguna manera, la red no es capaz de aprender absolutamente nada, produciendo accuracies cercanas a 0.02, cuando si eligieramos las clases aleatoriamente, se debería obtener un accuracy de 0.04 (1/24). El problema es que ciertos píxeles tienen intensidades mucho mayores que otros, por lo que la influencia de éstos claramente enmascara la influencia de aquellos píxeles de menor intensidad pero que podrían ser aún más importantes. La red tiene problemas entonces en calcular los pesos , con un mismo learning rate, con tal de balancear la influencia de los píxeles con distinta intensidad máxima.\n",
    "\n",
    "### Red entrenada con escalamiento sencillo  (dividir por 255) de datos"
   ]
  },
  {
   "cell_type": "code",
   "execution_count": 121,
   "metadata": {
    "scrolled": true
   },
   "outputs": [
    {
     "name": "stdout",
     "output_type": "stream",
     "text": [
      "Accuracy sobre el train set con 10 neuronas ocultas y dropout de 0.3\n",
      "0.924786013477\n",
      "Accuracy sobre el test set 10 neuronas ocultas y dropout de 0.3\n",
      "0.661042944785\n",
      "Accuracy sobre el train set con 10 neuronas ocultas y dropout de 0.5\n",
      "0.847477690767\n",
      "Accuracy sobre el test set 10 neuronas ocultas y dropout de 0.5\n",
      "0.607640825432\n",
      "Accuracy sobre el train set con 10 neuronas ocultas y dropout de 0.7\n",
      "0.777271899472\n",
      "Accuracy sobre el test set 10 neuronas ocultas y dropout de 0.7\n",
      "0.605549358617\n",
      "Accuracy sobre el train set con 50 neuronas ocultas y dropout de 0.3\n",
      "1.0\n",
      "Accuracy sobre el test set 50 neuronas ocultas y dropout de 0.3\n",
      "0.797685443391\n",
      "Accuracy sobre el train set con 50 neuronas ocultas y dropout de 0.5\n",
      "1.0\n",
      "Accuracy sobre el test set 50 neuronas ocultas y dropout de 0.5\n",
      "0.812186279978\n",
      "Accuracy sobre el train set con 50 neuronas ocultas y dropout de 0.7\n",
      "0.996767437625\n",
      "Accuracy sobre el test set 50 neuronas ocultas y dropout de 0.7\n",
      "0.814696040156\n",
      "Accuracy sobre el train set con 100 neuronas ocultas y dropout de 0.3\n",
      "1.0\n",
      "Accuracy sobre el test set 100 neuronas ocultas y dropout de 0.3\n",
      "0.825292805354\n",
      "Accuracy sobre el train set con 100 neuronas ocultas y dropout de 0.5\n",
      "1.0\n",
      "Accuracy sobre el test set 100 neuronas ocultas y dropout de 0.5\n",
      "0.842163970998\n",
      "Accuracy sobre el train set con 100 neuronas ocultas y dropout de 0.7\n",
      "0.999408122382\n",
      "Accuracy sobre el test set 100 neuronas ocultas y dropout de 0.7\n",
      "0.823619631902\n",
      "Accuracy sobre el train set con 150 neuronas ocultas y dropout de 0.3\n",
      "1.0\n",
      "Accuracy sobre el test set 150 neuronas ocultas y dropout de 0.3\n",
      "0.827244841049\n",
      "Accuracy sobre el train set con 150 neuronas ocultas y dropout de 0.5\n",
      "1.0\n",
      "Accuracy sobre el test set 150 neuronas ocultas y dropout de 0.5\n",
      "0.852900167317\n",
      "Accuracy sobre el train set con 150 neuronas ocultas y dropout de 0.7\n",
      "0.999908941905\n",
      "Accuracy sobre el test set 150 neuronas ocultas y dropout de 0.7\n",
      "0.849553820413\n"
     ]
    }
   ],
   "source": [
    "import itertools\n",
    "layers = [10,50,100,150]\n",
    "dropouts = [0.3,0.5,0.7]\n",
    "X,y,X_val,y_val,X_test,y_test = load_data()\n",
    "ssX,ssX_val,ssX_test, sX, sX_val, sX_test = scale_data(X,X_val,X_test)\n",
    "\n",
    "for i in range(len(layers)):\n",
    "    for j in range(len(dropouts)):\n",
    "\n",
    "        model = train_nn_model([layers[i]],dropouts[j],'adadelta','relu',50,100,25,sX,y,verbose=0)\n",
    "\n",
    "        y_pred = np.argmax(model.predict(sX),axis=1)\n",
    "        y_test_pred = np.argmax(model.predict(sX_test),axis=1)\n",
    "        accuracy = np.mean(y_pred == y)\n",
    "        test_accuracy = np.mean(y_test_pred == y_test)\n",
    "        print(\"Accuracy sobre el train set con \"+str(layers[i])+\" neuronas ocultas y dropout de \"+str(dropouts[j]))\n",
    "        print(accuracy)\n",
    "        print(\"Accuracy sobre el test set \"+str(layers[i])+\" neuronas ocultas y dropout de \"+str(dropouts[j]))\n",
    "        print(test_accuracy)\n",
    "    "
   ]
  },
  {
   "cell_type": "markdown",
   "metadata": {},
   "source": [
    "En este caso, con el escalamiento sencillo ya se obtienen accuracies mayores a 0.8 para el test set. En particular, con 150 neuronas ocultas en la capa escondida y un dropout de 0.5 ya se obtiene 0.85. El escalamiento realizado claramente reduce el problema de las intensidades máximas, aunque no todas éstas se encuentren en el rango [0,1]. Posiblemente, la diferencia radica en la magnitud de los pesos de la red neuronal: debido a que los pesos de la red están en el rango [0,1] inicialmente y se tiene un learning rate constante (que determina cuánto debería aumentar o disminuir un peso en particular), es más fácil que en el entrenamiento los pesos se ajusten para compensar la diferencia de magnitud cuando los valores de las características son del mismo orden que los valores de los pesos. \n",
    "\n",
    "Por otro lado, el hecho de que un dropout de 0.5 sea útil en esta tarea indica que existen muchas características correlacionadas que pueden llevar a realizar overfitting cuando son tomados todas en conjunto. Esto era de esperar, ya que las imágenes están plagadas de píxeles altamente correlacionados que no inducen patrones útiles para la tarea de clasificación (por ejemplo, el fondo de las imágenes con las que estamos trabajando son píxeles inútiles para la tarea).\n",
    "\n",
    "### Red neuronal entrenada con estandarización de datos"
   ]
  },
  {
   "cell_type": "code",
   "execution_count": 61,
   "metadata": {
    "scrolled": true
   },
   "outputs": [
    {
     "name": "stdout",
     "output_type": "stream",
     "text": [
      "Accuracy sobre el train set con 10 neuronas ocultas y dropout de 0.3\n",
      "0.547942087052\n",
      "Accuracy sobre el test set 10 neuronas ocultas y dropout de 0.3\n",
      "0.494701617401\n",
      "Accuracy sobre el train set con 10 neuronas ocultas y dropout de 0.5\n",
      "0.483973775269\n",
      "Accuracy sobre el test set 10 neuronas ocultas y dropout de 0.5\n",
      "0.463608477412\n",
      "Accuracy sobre el train set con 10 neuronas ocultas y dropout de 0.7\n",
      "0.386769258787\n",
      "Accuracy sobre el test set 10 neuronas ocultas y dropout de 0.7\n",
      "0.368098159509\n",
      "Accuracy sobre el train set con 50 neuronas ocultas y dropout de 0.3\n",
      "0.793753414679\n",
      "Accuracy sobre el test set 50 neuronas ocultas y dropout de 0.3\n",
      "0.641662018963\n",
      "Accuracy sobre el train set con 50 neuronas ocultas y dropout de 0.5\n",
      "0.725733017665\n",
      "Accuracy sobre el test set 50 neuronas ocultas y dropout de 0.5\n",
      "0.587702175125\n",
      "Accuracy sobre el train set con 50 neuronas ocultas y dropout de 0.7\n",
      "0.587871061737\n",
      "Accuracy sobre el test set 50 neuronas ocultas y dropout de 0.7\n",
      "0.51352481874\n",
      "Accuracy sobre el train set con 100 neuronas ocultas y dropout de 0.3\n",
      "0.882535057367\n",
      "Accuracy sobre el test set 100 neuronas ocultas y dropout de 0.3\n",
      "0.701338538762\n",
      "Accuracy sobre el train set con 100 neuronas ocultas y dropout de 0.5\n",
      "0.786423238026\n",
      "Accuracy sobre el test set 100 neuronas ocultas y dropout de 0.5\n",
      "0.659230340212\n",
      "Accuracy sobre el train set con 100 neuronas ocultas y dropout de 0.7\n",
      "0.631260244036\n",
      "Accuracy sobre el test set 100 neuronas ocultas y dropout de 0.7\n",
      "0.525237032906\n",
      "Accuracy sobre el train set con 150 neuronas ocultas y dropout de 0.3\n",
      "0.90129302495\n",
      "Accuracy sobre el test set 150 neuronas ocultas y dropout de 0.3\n",
      "0.731734523146\n",
      "Accuracy sobre el train set con 150 neuronas ocultas y dropout de 0.5\n",
      "0.812465853214\n",
      "Accuracy sobre el test set 150 neuronas ocultas y dropout de 0.5\n",
      "0.662158393753\n",
      "Accuracy sobre el train set con 150 neuronas ocultas y dropout de 0.7\n",
      "0.657393917319\n",
      "Accuracy sobre el test set 150 neuronas ocultas y dropout de 0.7\n",
      "0.552007808143\n"
     ]
    }
   ],
   "source": [
    "import itertools\n",
    "layers = [10,50,100,150]\n",
    "dropouts = [0.3,0.5,0.7]\n",
    "\n",
    "\n",
    "for i in range(len(layers)):\n",
    "    for j in range(len(dropouts)):\n",
    "\n",
    "        model = train_nn_model([layers[i]],dropouts[j],'adadelta','relu',50,100,25,ssX.values,y,verbose=0)\n",
    "\n",
    "        y_pred = np.argmax(model.predict(ssX.values),axis=1)\n",
    "        y_test_pred = np.argmax(model.predict(ssX_test.values),axis=1)\n",
    "        accuracy = np.mean(y_pred == y)\n",
    "        test_accuracy = np.mean(y_test_pred == y_test)\n",
    "        print(\"Accuracy sobre el train set con \"+str(layers[i])+\" neuronas ocultas y dropout de \"+str(dropouts[j]))\n",
    "        print(accuracy)\n",
    "        print(\"Accuracy sobre el test set \"+str(layers[i])+\" neuronas ocultas y dropout de \"+str(dropouts[j]))\n",
    "        print(test_accuracy)\n",
    "    "
   ]
  },
  {
   "cell_type": "markdown",
   "metadata": {},
   "source": [
    "Se observa que el mejor resultado sobre el test set (accuracy de 0.78) se obtiene con 150 unidades ocultas y un dropout de 0.3. Para buscar mejorar el error, se agregará una capa oculta extra a ese modelo."
   ]
  },
  {
   "cell_type": "code",
   "execution_count": 65,
   "metadata": {
    "scrolled": true
   },
   "outputs": [
    {
     "name": "stdout",
     "output_type": "stream",
     "text": [
      "Accuracy sobre el train set con 1 capa de 150 y otra de 10 neuronas ocultas y dropout de 0.5\n",
      "0.774312511382\n",
      "Accuracy sobre el test set con 1 capa de 150 y otra de 10 neuronas ocultas y dropout de 0.5\n",
      "0.656441717791\n",
      "Accuracy sobre el train set con 1 capa de 150 y otra de 50 neuronas ocultas y dropout de 0.5\n",
      "0.898242578765\n",
      "Accuracy sobre el test set con 1 capa de 150 y otra de 50 neuronas ocultas y dropout de 0.5\n",
      "0.746514221974\n",
      "Accuracy sobre el train set con 1 capa de 150 y otra de 100 neuronas ocultas y dropout de 0.5\n",
      "0.94777818248\n",
      "Accuracy sobre el test set con 1 capa de 150 y otra de 100 neuronas ocultas y dropout de 0.5\n",
      "0.756692693809\n",
      "Accuracy sobre el train set con 1 capa de 150 y otra de 150 neuronas ocultas y dropout de 0.5\n",
      "0.956656346749\n",
      "Accuracy sobre el test set con 1 capa de 150 y otra de 150 neuronas ocultas y dropout de 0.5\n",
      "0.79615170106\n"
     ]
    }
   ],
   "source": [
    "import itertools\n",
    "layers = [10,50,100,150]\n",
    "#dropouts = [0.3,0.5,0.7]\n",
    "\n",
    "\n",
    "for i in range(len(layers)):\n",
    "        \n",
    "        model = train_nn_model([150,layers[i]],0.3,'adadelta','relu',50,100,25,ssX.values,y,verbose=0)\n",
    "\n",
    "        y_pred = np.argmax(model.predict(ssX.values),axis=1)\n",
    "        y_test_pred = np.argmax(model.predict(ssX_test.values),axis=1)\n",
    "        accuracy = np.mean(y_pred == y)\n",
    "        test_accuracy = np.mean(y_test_pred == y_test)\n",
    "        print(\"Accuracy sobre el train set con 1 capa de 150 y otra de \"+str(layers[i])+\" neuronas ocultas y dropout de 0.5\")\n",
    "        print(accuracy)\n",
    "        print(\"Accuracy sobre el test set con 1 capa de 150 y otra de \"+str(layers[i])+\" neuronas ocultas y dropout de 0.5\")\n",
    "        print(test_accuracy)"
   ]
  },
  {
   "cell_type": "markdown",
   "metadata": {},
   "source": [
    "Se observa que el mejor resultado (accuracy de 0.795), nuevamente, se obtiene cuando se agrega otra capa oculta con 150 unidades. Se volverá a agregar una última capa para ver si los resultados pueden mejorar aún más."
   ]
  },
  {
   "cell_type": "code",
   "execution_count": 66,
   "metadata": {},
   "outputs": [
    {
     "name": "stdout",
     "output_type": "stream",
     "text": [
      "Accuracy sobre el train set con 2 capas de 150 y otra de 10 neuronas ocultas y dropout de 0.3\n",
      "0.875842287379\n",
      "Accuracy sobre el test set con 2 capas de 150 y otra de 10 neuronas ocultas y dropout de 0.3\n",
      "0.72824874512\n",
      "Accuracy sobre el train set con 2 capas de 150 y otra de 50 neuronas ocultas y dropout de 0.3\n",
      "0.955973411036\n",
      "Accuracy sobre el test set con 2 capas de 150 y otra de 50 neuronas ocultas y dropout de 0.3\n",
      "0.79489682097\n",
      "Accuracy sobre el train set con 2 capas de 150 y otra de 100 neuronas ocultas y dropout de 0.3\n",
      "0.950418867237\n",
      "Accuracy sobre el test set con 2 capas de 150 y otra de 100 neuronas ocultas y dropout de 0.3\n",
      "0.760596765198\n",
      "Accuracy sobre el train set con 2 capas de 150 y otra de 150 neuronas ocultas y dropout de 0.3\n",
      "0.971134583865\n",
      "Accuracy sobre el test set con 2 capas de 150 y otra de 150 neuronas ocultas y dropout de 0.3\n",
      "0.797406581149\n"
     ]
    }
   ],
   "source": [
    "layers = [10,50,100,150]\n",
    "#dropouts = [0.3,0.5,0.7]\n",
    "\n",
    "\n",
    "for i in range(len(layers)):\n",
    "        \n",
    "        model = train_nn_model([150,150,layers[i]],0.3,'adadelta','relu',50,100,25,ssX.values,y,verbose=0)\n",
    "\n",
    "        y_pred = np.argmax(model.predict(ssX.values),axis=1)\n",
    "        y_test_pred = np.argmax(model.predict(ssX_test.values),axis=1)\n",
    "        accuracy = np.mean(y_pred == y)\n",
    "        test_accuracy = np.mean(y_test_pred == y_test)\n",
    "        print(\"Accuracy sobre el train set con 2 capas de 150 y otra de \"+str(layers[i])+\" neuronas ocultas y dropout de 0.3\")\n",
    "        print(accuracy)\n",
    "        print(\"Accuracy sobre el test set con 2 capas de 150 y otra de \"+str(layers[i])+\" neuronas ocultas y dropout de 0.3\")\n",
    "        print(test_accuracy)"
   ]
  },
  {
   "cell_type": "markdown",
   "metadata": {},
   "source": [
    "Finalmente, se vuelve a obtener un mejor resultado con la tercera capa oculta de 150 unidades. Aún así, en este caso los resultados en general fueron peores que con la data con escalamiento sencillo, a pesar de la incorporación de múltiples capas ocultas. Esto podría deberse a que, coincidentemente, aquellos píxeles que no varían mucho su intensidad no son tan importantes realmente a la hora de la clasificación (como por ejemplo, los píxeles del fondo de la imagen). Entonces, al ser escalados tan sólo dividiendo por 255, los valores de éstos permanecen en un rango muy pequeño y el efecto en la variación de estos píxeles no influye mucho en el resultado final de la red (se debe tener en cuenta que de capa en capa la influencia de una variable se va magnificando dependiendo de los pesos asociados). En cambio, al colocar aquellos píxeles que poco varían en el rango [0,1], una variación despreciable en la realidad de éstos podría provocar cambios sustanciales en el resultado final de la red, debido a que todas las variables se mueven en dicho rango, teniendo como consecuencia final una mayor dificultad en el entrenamiento de la red para que ésta pueda discernir entre aquellos píxeles que importan y aquellos que no."
   ]
  },
  {
   "cell_type": "markdown",
   "metadata": {},
   "source": [
    "## (d)\n",
    "Para la mejor red entrenada anteriormente construya la matriz de confusión de las distintas clases, para\n",
    "asi visualizar cuáles son las clases más difı́ciles de clasificar y con cuáles se confunden. Comente.\n",
    "\n",
    "El código a utilizar está directamente sacado de stack-overflow."
   ]
  },
  {
   "cell_type": "code",
   "execution_count": 82,
   "metadata": {
    "scrolled": false
   },
   "outputs": [
    {
     "name": "stdout",
     "output_type": "stream",
     "text": [
      "7172/7172 [==============================] - 2s 210us/step\n"
     ]
    },
    {
     "data": {
      "image/png": "[encoded data removed]",
      "text/plain": [
       "<matplotlib.figure.Figure at 0x1d35c938f98>"
      ]
     },
     "metadata": {},
     "output_type": "display_data"
    }
   ],
   "source": [
    "from sklearn.metrics import confusion_matrix\n",
    "import seaborn as sns\n",
    "import matplotlib.pyplot as plt\n",
    "\n",
    "y_pred_test = model.predict_classes(ssX_test.values)\n",
    "cnf_matrix = confusion_matrix(y_test,y_pred_test)\n",
    "\n",
    "norm_conf = []\n",
    "for i in cnf_matrix:\n",
    "    a = 0\n",
    "    tmp_arr = []\n",
    "    a = sum(i, 0)\n",
    "    for j in i:\n",
    "        tmp_arr.append(float(j)/float(a))\n",
    "    norm_conf.append(tmp_arr)\n",
    "\n",
    "fig = plt.figure(figsize=(20,20))\n",
    "plt.clf()\n",
    "ax = fig.add_subplot(111)\n",
    "ax.set_aspect(1)\n",
    "res = ax.imshow(np.array(norm_conf), cmap=plt.cm.jet, \n",
    "                interpolation='nearest')\n",
    "\n",
    "width, height = cnf_matrix.shape\n",
    "\n",
    "for x in range(width):\n",
    "    for y in range(height):\n",
    "        ax.annotate(str(cnf_matrix[x][y]), xy=(y, x), \n",
    "                    horizontalalignment='center',\n",
    "                    verticalalignment='center')\n",
    "\n",
    "cb = fig.colorbar(res)\n",
    "#alphabet = 'ABCDEFGHIJKLMNOPQRSTUVWXYZ'\n",
    "plt.xticks(range(width), range(width),)\n",
    "plt.yticks(range(height), range(height))\n",
    "plt.show()\n",
    "# https://stackoverflow.com/questions/5821125/how-to-plot-confusion-matrix-with-string-axis-rather-than-integer-in-python"
   ]
  },
  {
   "attachments": {},
   "cell_type": "markdown",
   "metadata": {
    "collapsed": true
   },
   "source": [
    "Se observa claramente que, por ejemplo, cuando se trata de predecir la letra \"U\", el algoritmo se confunde y en muchos casos predice la letra \"R\" o la letra \"D\".\n",
    "\n",
    "<img src=\"D-R-U.png\">\n",
    "\n",
    "Asimismo, cuando se trata de predecir \"W\", el algoritmo se confunde muchas veces con \"U\" y con \"R\".\n",
    "\n",
    "<img src=\"R-U-W.png\">\n",
    "\n",
    "En general, hay varias complicaciones con la \"U\" y \"R\" debido a que muchos signos son parecidos, por lo cual es normal que el algoritmo se \"confunda\", ya que la diferencia está sólo en una pequeña porción de píxeles."
   ]
  },
  {
   "cell_type": "markdown",
   "metadata": {},
   "source": [
    "## (e)\n",
    "Entrene una SVM no lineal sobre los pixeles con y sin pre-procesamiento. Puede utilizar el conjunto de\n",
    "validación para seleccionar hiper-parámetros, como el nivel de regularización aplicado y/o la función\n",
    "de kernel a utilizar.\n",
    "\n",
    "En este caso los experimentos fueron realizados en el cluster del CCTVAL por razones de tiempo computacional. Se muestra a continuación las funciones que fueron implementadas para los experimentos y se copian directamente los resultados obtenidos más abajo.\n",
    "\n",
    "Los parámetros que se probaron fueron:\n",
    "\n",
    "- C: 0.1, 1, 10\n",
    "- Kernel: Cúbico, Gaussiano\n",
    "\n",
    "### SVM con data sin pre-procesar"
   ]
  },
  {
   "cell_type": "code",
   "execution_count": 68,
   "metadata": {
    "collapsed": true
   },
   "outputs": [],
   "source": [
    "from sklearn.svm import SVC\n",
    "lambda_svc = lambda c,k: SVC(C=int(c),kernel=k)"
   ]
  },
  {
   "cell_type": "code",
   "execution_count": null,
   "metadata": {
    "collapsed": true
   },
   "outputs": [],
   "source": [
    "c = [0.1,1.,10.]\n",
    "k = ['rbf','poly']\n",
    "\n",
    "\n",
    "for i in range(len(c)):\n",
    "    for j in range(len(k)):\n",
    "        \n",
    "        #model = train_nn_model([150,layers[i]],dropouts[j],'adadelta','relu',50,100,25,ssX.values,y,verbose=0)\n",
    "        clf = SVC(C=float(c[i]),kernel=str(k[j]))\n",
    "        clf.fit(ssX.values,y.values)\n",
    "        y_pred = clf.predict(ssX.values)\n",
    "        y_test_pred = clf.predict(ssX_test.values)\n",
    "        \n",
    "        accuracy = np.mean(y_pred == y)\n",
    "        test_accuracy = np.mean(y_test_pred == y_test)\n",
    "        print(\"Accuracy sobre el train set con C \"+str(c[i])+\"  y kernel de \" +k[j])\n",
    "        print(accuracy)\n",
    "        print(\"Accuracy sobre el test set con  C \"+str(c[i])+\"  y kernel de \" +k[j])\n",
    "        print(test_accuracy)"
   ]
  },
  {
   "cell_type": "markdown",
   "metadata": {},
   "source": [
    "Accuracy sobre el train set con C 0.1  y kernel de rbf\n",
    "\n",
    "0.0471316700055\n",
    "\n",
    "Accuracy sobre el test set con  C 0.1  y kernel de rbf\n",
    "\n",
    "0.0200780814278\n",
    "\n",
    "Accuracy sobre el train set con C 0.1  y kernel de poly\n",
    "\n",
    "1.0\n",
    "\n",
    "Accuracy sobre el test set con  C 0.1  y kernel de poly\n",
    "\n",
    "0.781790295594\n",
    "\n",
    "Accuracy sobre el train set con C 1.0  y kernel de rbf\n",
    "\n",
    "1.0\n",
    "\n",
    "Accuracy sobre el test set con  C 1.0  y kernel de rbf\n",
    "\n",
    "0.0200780814278\n",
    "\n",
    "Accuracy sobre el train set con C 1.0  y kernel de poly\n",
    "\n",
    "1.0\n",
    "\n",
    "Accuracy sobre el test set con  C 1.0  y kernel de poly\n",
    "\n",
    "0.781790295594\n",
    "\n",
    "Accuracy sobre el train set con C 10.0  y kernel de rbf\n",
    "\n",
    "1.0\n",
    "\n",
    "Accuracy sobre el test set con  C 10.0  y kernel de rbf\n",
    "\n",
    "0.0200780814278\n",
    "\n",
    "Accuracy sobre el train set con C 10.0  y kernel de poly\n",
    "\n",
    "1.0\n",
    "\n",
    "Accuracy sobre el test set con  C 10.0  y kernel de poly\n",
    "\n",
    "0.781790295594\n"
   ]
  },
  {
   "cell_type": "markdown",
   "metadata": {},
   "source": [
    "Se observa que se obtuvieron resultados pésimos con kernel Gaussiano y buenos resultados con kernel polinomial. Es difícil entender qué sucede realmente con la transformación de dichos kernels, pero quizás el efecto asociado al no escalamiento se ve aminorado por la utilización de las transformaciones asociadas.\n",
    "\n",
    "### SVM con data con escalamiento sencillo (dividir por 255)"
   ]
  },
  {
   "cell_type": "markdown",
   "metadata": {},
   "source": [
    "Accuracy sobre el train set con C 0.1  y kernel de rbf\n",
    "\n",
    "0.430522673466\n",
    "\n",
    "Accuracy sobre el test set con  C 0.1  y kernel de rbf\n",
    "\n",
    "0.333658672616\n",
    "\n",
    "Accuracy sobre el train set con C 0.1  y kernel de poly\n",
    "\n",
    "0.147914769623\n",
    "\n",
    "Accuracy sobre el test set con  C 0.1  y kernel de poly\n",
    "\n",
    "0.0870050195204\n",
    "\n",
    "Accuracy sobre el train set con C 1.0  y kernel de rbf\n",
    "\n",
    "0.848916408669\n",
    "\n",
    "Accuracy sobre el test set con  C 1.0  y kernel de rbf\n",
    "\n",
    "0.701756832125\n",
    "\n",
    "Accuracy sobre el train set con C 1.0  y kernel de poly\n",
    "\n",
    "0.627754507376\n",
    "\n",
    "Accuracy sobre el test set con  C 1.0  y kernel de poly\n",
    "\n",
    "0.515058561071\n",
    "\n",
    "Accuracy sobre el train set con C 10.0  y kernel de rbf\n",
    "\n",
    "0.9974139501\n",
    "\n",
    "Accuracy sobre el test set con  C 10.0  y kernel de rbf\n",
    "\n",
    "0.775515895148\n",
    "\n",
    "Accuracy sobre el train set con C 10.0  y kernel de poly\n",
    "\n",
    "0.94317974868\n",
    "\n",
    "Accuracy sobre el test set con  C 10.0  y kernel de poly\n",
    "\n",
    "0.756553262688"
   ]
  },
  {
   "cell_type": "markdown",
   "metadata": {},
   "source": [
    "Los resultados mejoran considerablemente con el pre-procesamiento sencillo. En particular, para el kernel gaussiano la mejora es sustancial: de 0.02 de accuracy se aumenta a 0.77."
   ]
  },
  {
   "cell_type": "code",
   "execution_count": 92,
   "metadata": {
    "collapsed": true
   },
   "outputs": [],
   "source": [
    "\n",
    "c = [0.1,1.,10.]\n",
    "k = ['rbf','poly']\n",
    "\n",
    "\n",
    "for i in range(len(c)):\n",
    "    for j in range(len(k)):\n",
    "        \n",
    "        #model = train_nn_model([150,layers[i]],dropouts[j],'adadelta','relu',50,100,25,ssX.values,y,verbose=0)\n",
    "        clf = SVC(C=float(c[i]),kernel=str(k[j]))\n",
    "        clf.fit(ssX.values,y.values)\n",
    "        y_pred = clf.predict(ssX.values)\n",
    "        y_test_pred = clf.predict(ssX_test.values)\n",
    "        \n",
    "        accuracy = np.mean(y_pred == y)\n",
    "        test_accuracy = np.mean(y_test_pred == y_test)\n",
    "        print(\"Accuracy sobre el train set con C \"+str(c[i])+\"  y kernel de \" +k[j])\n",
    "        print(accuracy)\n",
    "        print(\"Accuracy sobre el test set con  C \"+str(c[i])+\"  y kernel de \" +k[j])\n",
    "        print(test_accuracy)"
   ]
  },
  {
   "cell_type": "markdown",
   "metadata": {},
   "source": [
    "Accuracy sobre el train set con C 0.1  y kernel de rbf\n",
    "\n",
    "0.944053906392\n",
    "\n",
    "Accuracy sobre el test set con  C 0.1  y kernel de rbf\n",
    "\n",
    "0.774261015059\n",
    "\n",
    "Accuracy sobre el train set con C 0.1  y kernel de poly\n",
    "\n",
    "0.740702968494\n",
    "\n",
    "Accuracy sobre el test set con  C 0.1  y kernel de poly\n",
    "\n",
    "0.537228109314\n",
    "\n",
    "Accuracy sobre el train set con C 1.0  y kernel de rbf\n",
    "\n",
    "1.0\n",
    "\n",
    "Accuracy sobre el test set con  C 1.0  y kernel de rbf\n",
    "\n",
    "0.848856664808\n",
    "\n",
    "Accuracy sobre el train set con C 1.0  y kernel de poly\n",
    "\n",
    "0.988235294118\n",
    "\n",
    "Accuracy sobre el test set con  C 1.0  y kernel de poly\n",
    "\n",
    "0.781372002231\n",
    "\n",
    "Accuracy sobre el train set con C 10.0  y kernel de rbf\n",
    "\n",
    "1.0\n",
    "\n",
    "Accuracy sobre el test set con  C 10.0  y kernel de rbf\n",
    "\n",
    "0.851645287228\n",
    "\n",
    "Accuracy sobre el train set con C 10.0  y kernel de poly\n",
    "\n",
    "1.0\n",
    "\n",
    "Accuracy sobre el test set con  C 10.0  y kernel de poly\n",
    "\n",
    "0.82194645845"
   ]
  },
  {
   "cell_type": "markdown",
   "metadata": {},
   "source": [
    "Como se observa a partir de los resultados, la mejor combinación se obtiene con C=10 y kernel gaussiano, obteniéndose una accuracy de 0.85, casi el mismo resultado que se obtiene con la mejor red neuronal de la sección anterior. Es interesante que con C=10 y el kernel gaussiano, el conjunto de training es clasificado perfectamente y aún así se obtienen los mejores resultados: uno esperaría que el overfitting generado se refleje en una peor capacidad de generalización. Sin embargo, al parecer el dataset es bastante sencillo y por eso no se evidencia este fenómeno."
   ]
  },
  {
   "cell_type": "markdown",
   "metadata": {},
   "source": [
    "## (f)\n",
    "Entrene una árbol de clasificación sobre los pixeles con y sin pre-procesamiento. Puede utilizar el\n",
    "conjunto de validación para seleccionar hiper-parámetros, como la profundidad máxima del árbol.\n",
    "\n",
    "Los parámetros que se consideraron para el árbol son:\n",
    "\n",
    "- Impureza : Gino o Entropía\n",
    "- Máxima profundidad : 10, 20, 50, 100, 150, 200\n",
    "\n",
    "## Decision Tree con data sin pre-procesar"
   ]
  },
  {
   "cell_type": "code",
   "execution_count": 91,
   "metadata": {},
   "outputs": [
    {
     "name": "stdout",
     "output_type": "stream",
     "text": [
      "Accuracy sobre el train set con criterio giniy máxima profundidad 10\n",
      "0.619695865962\n",
      "Accuracy sobre el test set con criterio giniy máxima profundidad 10\n",
      "0.320552147239\n",
      "Accuracy sobre el train set con criterio giniy máxima profundidad 20\n",
      "0.955290475323\n",
      "Accuracy sobre el test set con criterio giniy máxima profundidad 20\n",
      "0.439626324596\n",
      "Accuracy sobre el train set con criterio giniy máxima profundidad 50\n",
      "1.0\n",
      "Accuracy sobre el test set con criterio giniy máxima profundidad 50\n",
      "0.454545454545\n",
      "Accuracy sobre el train set con criterio giniy máxima profundidad 100\n",
      "1.0\n",
      "Accuracy sobre el test set con criterio giniy máxima profundidad 100\n",
      "0.462771890686\n",
      "Accuracy sobre el train set con criterio giniy máxima profundidad 150\n",
      "1.0\n",
      "Accuracy sobre el test set con criterio giniy máxima profundidad 150\n",
      "0.454545454545\n",
      "Accuracy sobre el train set con criterio giniy máxima profundidad 200\n",
      "1.0\n",
      "Accuracy sobre el test set con criterio giniy máxima profundidad 200\n",
      "0.454406023424\n",
      "Accuracy sobre el train set con criterio entropyy máxima profundidad 10\n",
      "0.83099617556\n",
      "Accuracy sobre el test set con criterio entropyy máxima profundidad 10\n",
      "0.399888455103\n",
      "Accuracy sobre el train set con criterio entropyy máxima profundidad 20\n",
      "1.0\n",
      "Accuracy sobre el test set con criterio entropyy máxima profundidad 20\n",
      "0.426380368098\n",
      "Accuracy sobre el train set con criterio entropyy máxima profundidad 50\n",
      "1.0\n",
      "Accuracy sobre el test set con criterio entropyy máxima profundidad 50\n",
      "0.428750697156\n",
      "Accuracy sobre el train set con criterio entropyy máxima profundidad 100\n",
      "1.0\n",
      "Accuracy sobre el test set con criterio entropyy máxima profundidad 100\n",
      "0.447434467373\n",
      "Accuracy sobre el train set con criterio entropyy máxima profundidad 150\n",
      "1.0\n",
      "Accuracy sobre el test set con criterio entropyy máxima profundidad 150\n",
      "0.426938092582\n",
      "Accuracy sobre el train set con criterio entropyy máxima profundidad 200\n",
      "1.0\n",
      "Accuracy sobre el test set con criterio entropyy máxima profundidad 200\n",
      "0.430981595092\n"
     ]
    }
   ],
   "source": [
    "from sklearn.tree import DecisionTreeClassifier\n",
    "\n",
    "ct = [\"gini\",\"entropy\"]\n",
    "md = [10,20,50,100,150,200]\n",
    "\n",
    "\n",
    "for i in range(len(ct)):\n",
    "        for k in range(len(md)):\n",
    "        \n",
    "            #model = train_nn_model([150,layers[i]],dropouts[j],'adadelta','relu',50,100,25,ssX.values,y,verbose=0)\n",
    "            clf = DecisionTreeClassifier(criterion=ct[i],max_depth=md[k])\n",
    "            clf.fit(X.values,y.values)\n",
    "            y_pred = clf.predict(X.values)\n",
    "            y_test_pred = clf.predict(X_test.values)\n",
    "\n",
    "            accuracy = np.mean(y_pred == y)\n",
    "            test_accuracy = np.mean(y_test_pred == y_test)\n",
    "            palabra = \"con\"\n",
    "            if j==0:\n",
    "                palabra = \"sin\"\n",
    "            print(\"Accuracy sobre el train set con criterio \"+str(ct[i])+\"y máxima profundidad \"+str(md[k]))\n",
    "            print(accuracy)\n",
    "            print(\"Accuracy sobre el test set con criterio \"+str(ct[i])+\"y máxima profundidad \"+str(md[k]))\n",
    "            print(test_accuracy)"
   ]
  },
  {
   "cell_type": "markdown",
   "metadata": {},
   "source": [
    "Se observa que el accuracy de los modelos no supera 0.45 en ningún caso, aún cuando el train set es clasificado perfectamente. La frontera de clasificación debe ser, entonces, demasiado específica a los datos de entrenamiento y no generaliza bien. En el caso de la SVM se observaba que si bien se obtenía accuracy 1 en el train set, en el test set también se obtenían buenos resultados, debido a que la frontera de decisión, si bien es no lineal, es lo suficientemente sesgada ( un hiperplano en el espacio de las características transformadas) como para que no se produzca el overfitting que se produce acá.\n",
    "\n",
    "### Decision Tree con data con escalamiento sencillo (dividir por 255)"
   ]
  },
  {
   "cell_type": "code",
   "execution_count": 164,
   "metadata": {},
   "outputs": [
    {
     "name": "stdout",
     "output_type": "stream",
     "text": [
      "Accuracy sobre el train set con criterio giniy máxima profundidad 10\n",
      "0.62620651976\n",
      "Accuracy sobre el test set con criterio giniy máxima profundidad 10\n",
      "0.34509202454\n",
      "Accuracy sobre el train set con criterio giniy máxima profundidad 20\n",
      "0.968311782918\n",
      "Accuracy sobre el test set con criterio giniy máxima profundidad 20\n",
      "0.432515337423\n",
      "Accuracy sobre el train set con criterio giniy máxima profundidad 50\n",
      "1.0\n",
      "Accuracy sobre el test set con criterio giniy máxima profundidad 50\n",
      "0.437813720022\n",
      "Accuracy sobre el train set con criterio giniy máxima profundidad 100\n",
      "1.0\n",
      "Accuracy sobre el test set con criterio giniy máxima profundidad 100\n",
      "0.450641383157\n",
      "Accuracy sobre el train set con criterio giniy máxima profundidad 150\n",
      "1.0\n",
      "Accuracy sobre el test set con criterio giniy máxima profundidad 150\n",
      "0.449386503067\n",
      "Accuracy sobre el train set con criterio giniy máxima profundidad 200\n",
      "1.0\n",
      "Accuracy sobre el test set con criterio giniy máxima profundidad 200\n",
      "0.440741773564\n",
      "Accuracy sobre el train set con criterio entropyy máxima profundidad 10\n",
      "0.841467856492\n",
      "Accuracy sobre el test set con criterio entropyy máxima profundidad 10\n",
      "0.415365309537\n",
      "Accuracy sobre el train set con criterio entropyy máxima profundidad 20\n",
      "1.0\n",
      "Accuracy sobre el test set con criterio entropyy máxima profundidad 20\n",
      "0.446319018405\n",
      "Accuracy sobre el train set con criterio entropyy máxima profundidad 50\n",
      "1.0\n",
      "Accuracy sobre el test set con criterio entropyy máxima profundidad 50\n",
      "0.443530395984\n",
      "Accuracy sobre el train set con criterio entropyy máxima profundidad 100\n",
      "1.0\n",
      "Accuracy sobre el test set con criterio entropyy máxima profundidad 100\n",
      "0.452314556609\n",
      "Accuracy sobre el train set con criterio entropyy máxima profundidad 150\n",
      "1.0\n",
      "Accuracy sobre el test set con criterio entropyy máxima profundidad 150\n",
      "0.447573898494\n",
      "Accuracy sobre el train set con criterio entropyy máxima profundidad 200\n",
      "1.0\n",
      "Accuracy sobre el test set con criterio entropyy máxima profundidad 200\n",
      "0.443669827105\n"
     ]
    }
   ],
   "source": [
    "from sklearn.tree import DecisionTreeClassifier\n",
    "\n",
    "ct = [\"gini\",\"entropy\"]\n",
    "md = [10,20,50,100,150,200]\n",
    "\n",
    "\n",
    "for i in range(len(ct)):\n",
    "        for k in range(len(md)):\n",
    "        \n",
    "            #model = train_nn_model([150,layers[i]],dropouts[j],'adadelta','relu',50,100,25,ssX.values,y,verbose=0)\n",
    "            clf = DecisionTreeClassifier(criterion=ct[i],max_depth=md[k])\n",
    "            clf.fit(sX,y)\n",
    "            y_pred = clf.predict(sX)\n",
    "            y_test_pred = clf.predict(sX_test)\n",
    "\n",
    "            accuracy = np.mean(y_pred == y)\n",
    "            test_accuracy = np.mean(y_test_pred == y_test)\n",
    "            palabra = \"con\"\n",
    "            if j==0:\n",
    "                palabra = \"sin\"\n",
    "            print(\"Accuracy sobre el train set con criterio \"+str(ct[i])+\"y máxima profundidad \"+str(md[k]))\n",
    "            print(accuracy)\n",
    "            print(\"Accuracy sobre el test set con criterio \"+str(ct[i])+\"y máxima profundidad \"+str(md[k]))\n",
    "            print(test_accuracy)"
   ]
  },
  {
   "cell_type": "markdown",
   "metadata": {},
   "source": [
    "### Decision Tree con data con estandarización"
   ]
  },
  {
   "cell_type": "code",
   "execution_count": 165,
   "metadata": {},
   "outputs": [
    {
     "name": "stdout",
     "output_type": "stream",
     "text": [
      "Accuracy sobre el train set con criterio giniy máxima profundidad 10\n",
      "0.62620651976\n",
      "Accuracy sobre el test set con criterio giniy máxima profundidad 10\n",
      "0.336726157278\n",
      "Accuracy sobre el train set con criterio giniy máxima profundidad 20\n",
      "0.968311782918\n",
      "Accuracy sobre el test set con criterio giniy máxima profundidad 20\n",
      "0.440044617959\n",
      "Accuracy sobre el train set con criterio giniy máxima profundidad 50\n",
      "1.0\n",
      "Accuracy sobre el test set con criterio giniy máxima profundidad 50\n",
      "0.439905186838\n",
      "Accuracy sobre el train set con criterio giniy máxima profundidad 100\n",
      "1.0\n",
      "Accuracy sobre el test set con criterio giniy máxima profundidad 100\n",
      "0.447295036252\n",
      "Accuracy sobre el train set con criterio giniy máxima profundidad 150\n",
      "1.0\n",
      "Accuracy sobre el test set con criterio giniy máxima profundidad 150\n",
      "0.451756832125\n",
      "Accuracy sobre el train set con criterio giniy máxima profundidad 200\n",
      "1.0\n",
      "Accuracy sobre el test set con criterio giniy máxima profundidad 200\n",
      "0.446179587284\n",
      "Accuracy sobre el train set con criterio entropyy máxima profundidad 10\n",
      "0.841376798397\n",
      "Accuracy sobre el test set con criterio entropyy máxima profundidad 10\n",
      "0.412855549359\n",
      "Accuracy sobre el train set con criterio entropyy máxima profundidad 20\n",
      "1.0\n",
      "Accuracy sobre el test set con criterio entropyy máxima profundidad 20\n",
      "0.435722253207\n",
      "Accuracy sobre el train set con criterio entropyy máxima profundidad 50\n",
      "1.0\n",
      "Accuracy sobre el test set con criterio entropyy máxima profundidad 50\n",
      "0.440602342443\n",
      "Accuracy sobre el train set con criterio entropyy máxima profundidad 100\n",
      "1.0\n",
      "Accuracy sobre el test set con criterio entropyy máxima profundidad 100\n",
      "0.440741773564\n",
      "Accuracy sobre el train set con criterio entropyy máxima profundidad 150\n",
      "1.0\n",
      "Accuracy sobre el test set con criterio entropyy máxima profundidad 150\n",
      "0.454684885666\n",
      "Accuracy sobre el train set con criterio entropyy máxima profundidad 200\n",
      "1.0\n",
      "Accuracy sobre el test set con criterio entropyy máxima profundidad 200\n",
      "0.440323480201\n"
     ]
    }
   ],
   "source": [
    "from sklearn.tree import DecisionTreeClassifier\n",
    "\n",
    "ct = [\"gini\",\"entropy\"]\n",
    "md = [10,20,50,100,150,200]\n",
    "\n",
    "\n",
    "for i in range(len(ct)):\n",
    "        for k in range(len(md)):\n",
    "        \n",
    "            #model = train_nn_model([150,layers[i]],dropouts[j],'adadelta','relu',50,100,25,ssX.values,y,verbose=0)\n",
    "            clf = DecisionTreeClassifier(criterion=ct[i],max_depth=md[k])\n",
    "            clf.fit(ssX.values,y.values)\n",
    "            y_pred = clf.predict(ssX.values)\n",
    "            y_test_pred = clf.predict(ssX_test.values)\n",
    "\n",
    "            accuracy = np.mean(y_pred == y)\n",
    "            test_accuracy = np.mean(y_test_pred == y_test)\n",
    "            palabra = \"con\"\n",
    "            if j==0:\n",
    "                palabra = \"sin\"\n",
    "            print(\"Accuracy sobre el train set con criterio \"+str(ct[i])+\"y máxima profundidad \"+str(md[k]))\n",
    "            print(accuracy)\n",
    "            print(\"Accuracy sobre el test set con criterio \"+str(ct[i])+\"y máxima profundidad \"+str(md[k]))\n",
    "            print(test_accuracy)"
   ]
  },
  {
   "cell_type": "markdown",
   "metadata": {},
   "source": [
    "Se observa claramente que los resultados son mucho peores con el árbol de clasificación en todos los casos. Apenas se observó que los resultados eran deficientes con la data sin escalar, se esperaba que los resultados fueran idénticos para la data pre-procesada: para los árboles de clasificación, este tipo de preprocesamiento no tiene sentido ya que los algoritmos construyen una división en cada característica independientemente del rango en la que éstas se encuentran."
   ]
  }
 ],
 "metadata": {
  "anaconda-cloud": {},
  "kernelspec": {
   "display_name": "Python 3",
   "language": "python",
   "name": "python3"
  },
  "language_info": {
   "codemirror_mode": {
    "name": "ipython",
    "version": 3
   },
   "file_extension": ".py",
   "mimetype": "text/x-python",
   "name": "python",
   "nbconvert_exporter": "python",
   "pygments_lexer": "ipython3",
   "version": "3.6.3"
  }
 },
 "nbformat": 4,
 "nbformat_minor": 2
}
